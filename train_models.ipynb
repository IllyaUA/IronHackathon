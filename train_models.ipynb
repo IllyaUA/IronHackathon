{
  "nbformat": 4,
  "nbformat_minor": 0,
  "metadata": {
    "colab": {
      "provenance": []
    },
    "kernelspec": {
      "name": "python3",
      "display_name": "Python 3"
    },
    "language_info": {
      "name": "python"
    }
  },
  "cells": [
    {
      "cell_type": "code",
      "execution_count": 55,
      "metadata": {
        "id": "dv74owyd7JPZ"
      },
      "outputs": [],
      "source": [
        "#Hello! Gilly here (Illia)"
      ]
    },
    {
      "cell_type": "code",
      "source": [
        "import pandas as pd\n",
        "import numpy as np\n",
        "import matplotlib.pyplot as plt\n",
        "import seaborn as sns\n",
        "import pickle\n",
        "\n",
        "from sklearn.model_selection import train_test_split\n",
        "from sklearn.preprocessing import StandardScaler\n",
        "\n",
        "from sklearn.feature_selection import SelectKBest, chi2\n",
        "from sklearn.linear_model import LogisticRegression\n",
        "from sklearn.model_selection import GridSearchCV, cross_val_score\n",
        "from sklearn.utils import resample\n",
        "from sklearn.metrics import accuracy_score, make_scorer, cohen_kappa_score\n",
        "from sklearn.ensemble import RandomForestClassifier\n",
        "from sklearn.metrics import confusion_matrix, ConfusionMatrixDisplay\n",
        "from sklearn.neighbors import KNeighborsClassifier"
      ],
      "metadata": {
        "id": "_L8V5KbE9X7z"
      },
      "execution_count": 56,
      "outputs": []
    },
    {
      "cell_type": "code",
      "source": [
        "from google.colab import drive\n",
        "drive.mount('/content/drive')"
      ],
      "metadata": {
        "colab": {
          "base_uri": "https://localhost:8080/"
        },
        "id": "QbyZB3oiAReD",
        "outputId": "db2374ff-5d4e-4a23-e5d7-f416b34c79ea"
      },
      "execution_count": 57,
      "outputs": [
        {
          "output_type": "stream",
          "name": "stdout",
          "text": [
            "Drive already mounted at /content/drive; to attempt to forcibly remount, call drive.mount(\"/content/drive\", force_remount=True).\n"
          ]
        }
      ]
    },
    {
      "cell_type": "markdown",
      "source": [
        "Load data.\n",
        "I put files to ./data"
      ],
      "metadata": {
        "id": "FAGIOLwT-xeV"
      }
    },
    {
      "cell_type": "code",
      "source": [
        "#data = pd.read_csv(r'./data/train.csv')\n",
        "data = pd.read_csv('/content/drive/MyDrive/IronWeek7_TechChallenge/data/train.csv')\n",
        "\n",
        "display(data.shape, data['Class'].value_counts(), data.head())"
      ],
      "metadata": {
        "colab": {
          "base_uri": "https://localhost:8080/",
          "height": 316
        },
        "id": "MY2G3PrO-lvy",
        "outputId": "8b8cae0c-5a8f-46ed-9463-bdab0006d881"
      },
      "execution_count": 58,
      "outputs": [
        {
          "output_type": "display_data",
          "data": {
            "text/plain": [
              "(102, 20)"
            ]
          },
          "metadata": {}
        },
        {
          "output_type": "display_data",
          "data": {
            "text/plain": [
              "LIVE    81\n",
              "DIE     21\n",
              "Name: Class, dtype: int64"
            ]
          },
          "metadata": {}
        },
        {
          "output_type": "display_data",
          "data": {
            "text/plain": [
              "   AGE    SEX STEROID  ANTIVIRALS  FATIGUE  MALAISE  ANOREXIA LIVER BIG  \\\n",
              "0   48  meale       1           2        1        1         2         2   \n",
              "1   51   Male       2           2        1        2         2         2   \n",
              "2   40      m       1           2        1        2         2         2   \n",
              "3   25      m       2           2        1        2         2         1   \n",
              "4   34      M       1           2        1        2         2         1   \n",
              "\n",
              "  LIVER FIRM SPLEEN PALPABLE SPIDERS ASCITES VARICES BILIRUBIN ALK PHOSPHATE  \\\n",
              "0          1               2       1       1       1      4.80           123   \n",
              "1          1               1       1       2       1      1.00             ?   \n",
              "2          1               2       2       2       2      0.60            62   \n",
              "3          1               1       1       1       1      1.30           181   \n",
              "4          1               2       1       2       2      1.00            72   \n",
              "\n",
              "  SGOT ALBUMIN PROTIME  HISTOLOGY Class  \n",
              "0  157     2.7      31          2   DIE  \n",
              "1   20     3.0      63          2  LIVE  \n",
              "2  166     4.0      63          1  LIVE  \n",
              "3  181     4.5      57          2  LIVE  \n",
              "4   46     4.4      57          1  LIVE  "
            ],
            "text/html": [
              "\n",
              "  <div id=\"df-d3009f26-8dfc-4fae-aac2-ac6e86ce4acb\" class=\"colab-df-container\">\n",
              "    <div>\n",
              "<style scoped>\n",
              "    .dataframe tbody tr th:only-of-type {\n",
              "        vertical-align: middle;\n",
              "    }\n",
              "\n",
              "    .dataframe tbody tr th {\n",
              "        vertical-align: top;\n",
              "    }\n",
              "\n",
              "    .dataframe thead th {\n",
              "        text-align: right;\n",
              "    }\n",
              "</style>\n",
              "<table border=\"1\" class=\"dataframe\">\n",
              "  <thead>\n",
              "    <tr style=\"text-align: right;\">\n",
              "      <th></th>\n",
              "      <th>AGE</th>\n",
              "      <th>SEX</th>\n",
              "      <th>STEROID</th>\n",
              "      <th>ANTIVIRALS</th>\n",
              "      <th>FATIGUE</th>\n",
              "      <th>MALAISE</th>\n",
              "      <th>ANOREXIA</th>\n",
              "      <th>LIVER BIG</th>\n",
              "      <th>LIVER FIRM</th>\n",
              "      <th>SPLEEN PALPABLE</th>\n",
              "      <th>SPIDERS</th>\n",
              "      <th>ASCITES</th>\n",
              "      <th>VARICES</th>\n",
              "      <th>BILIRUBIN</th>\n",
              "      <th>ALK PHOSPHATE</th>\n",
              "      <th>SGOT</th>\n",
              "      <th>ALBUMIN</th>\n",
              "      <th>PROTIME</th>\n",
              "      <th>HISTOLOGY</th>\n",
              "      <th>Class</th>\n",
              "    </tr>\n",
              "  </thead>\n",
              "  <tbody>\n",
              "    <tr>\n",
              "      <th>0</th>\n",
              "      <td>48</td>\n",
              "      <td>meale</td>\n",
              "      <td>1</td>\n",
              "      <td>2</td>\n",
              "      <td>1</td>\n",
              "      <td>1</td>\n",
              "      <td>2</td>\n",
              "      <td>2</td>\n",
              "      <td>1</td>\n",
              "      <td>2</td>\n",
              "      <td>1</td>\n",
              "      <td>1</td>\n",
              "      <td>1</td>\n",
              "      <td>4.80</td>\n",
              "      <td>123</td>\n",
              "      <td>157</td>\n",
              "      <td>2.7</td>\n",
              "      <td>31</td>\n",
              "      <td>2</td>\n",
              "      <td>DIE</td>\n",
              "    </tr>\n",
              "    <tr>\n",
              "      <th>1</th>\n",
              "      <td>51</td>\n",
              "      <td>Male</td>\n",
              "      <td>2</td>\n",
              "      <td>2</td>\n",
              "      <td>1</td>\n",
              "      <td>2</td>\n",
              "      <td>2</td>\n",
              "      <td>2</td>\n",
              "      <td>1</td>\n",
              "      <td>1</td>\n",
              "      <td>1</td>\n",
              "      <td>2</td>\n",
              "      <td>1</td>\n",
              "      <td>1.00</td>\n",
              "      <td>?</td>\n",
              "      <td>20</td>\n",
              "      <td>3.0</td>\n",
              "      <td>63</td>\n",
              "      <td>2</td>\n",
              "      <td>LIVE</td>\n",
              "    </tr>\n",
              "    <tr>\n",
              "      <th>2</th>\n",
              "      <td>40</td>\n",
              "      <td>m</td>\n",
              "      <td>1</td>\n",
              "      <td>2</td>\n",
              "      <td>1</td>\n",
              "      <td>2</td>\n",
              "      <td>2</td>\n",
              "      <td>2</td>\n",
              "      <td>1</td>\n",
              "      <td>2</td>\n",
              "      <td>2</td>\n",
              "      <td>2</td>\n",
              "      <td>2</td>\n",
              "      <td>0.60</td>\n",
              "      <td>62</td>\n",
              "      <td>166</td>\n",
              "      <td>4.0</td>\n",
              "      <td>63</td>\n",
              "      <td>1</td>\n",
              "      <td>LIVE</td>\n",
              "    </tr>\n",
              "    <tr>\n",
              "      <th>3</th>\n",
              "      <td>25</td>\n",
              "      <td>m</td>\n",
              "      <td>2</td>\n",
              "      <td>2</td>\n",
              "      <td>1</td>\n",
              "      <td>2</td>\n",
              "      <td>2</td>\n",
              "      <td>1</td>\n",
              "      <td>1</td>\n",
              "      <td>1</td>\n",
              "      <td>1</td>\n",
              "      <td>1</td>\n",
              "      <td>1</td>\n",
              "      <td>1.30</td>\n",
              "      <td>181</td>\n",
              "      <td>181</td>\n",
              "      <td>4.5</td>\n",
              "      <td>57</td>\n",
              "      <td>2</td>\n",
              "      <td>LIVE</td>\n",
              "    </tr>\n",
              "    <tr>\n",
              "      <th>4</th>\n",
              "      <td>34</td>\n",
              "      <td>M</td>\n",
              "      <td>1</td>\n",
              "      <td>2</td>\n",
              "      <td>1</td>\n",
              "      <td>2</td>\n",
              "      <td>2</td>\n",
              "      <td>1</td>\n",
              "      <td>1</td>\n",
              "      <td>2</td>\n",
              "      <td>1</td>\n",
              "      <td>2</td>\n",
              "      <td>2</td>\n",
              "      <td>1.00</td>\n",
              "      <td>72</td>\n",
              "      <td>46</td>\n",
              "      <td>4.4</td>\n",
              "      <td>57</td>\n",
              "      <td>1</td>\n",
              "      <td>LIVE</td>\n",
              "    </tr>\n",
              "  </tbody>\n",
              "</table>\n",
              "</div>\n",
              "    <div class=\"colab-df-buttons\">\n",
              "\n",
              "  <div class=\"colab-df-container\">\n",
              "    <button class=\"colab-df-convert\" onclick=\"convertToInteractive('df-d3009f26-8dfc-4fae-aac2-ac6e86ce4acb')\"\n",
              "            title=\"Convert this dataframe to an interactive table.\"\n",
              "            style=\"display:none;\">\n",
              "\n",
              "  <svg xmlns=\"http://www.w3.org/2000/svg\" height=\"24px\" viewBox=\"0 -960 960 960\">\n",
              "    <path d=\"M120-120v-720h720v720H120Zm60-500h600v-160H180v160Zm220 220h160v-160H400v160Zm0 220h160v-160H400v160ZM180-400h160v-160H180v160Zm440 0h160v-160H620v160ZM180-180h160v-160H180v160Zm440 0h160v-160H620v160Z\"/>\n",
              "  </svg>\n",
              "    </button>\n",
              "\n",
              "  <style>\n",
              "    .colab-df-container {\n",
              "      display:flex;\n",
              "      gap: 12px;\n",
              "    }\n",
              "\n",
              "    .colab-df-convert {\n",
              "      background-color: #E8F0FE;\n",
              "      border: none;\n",
              "      border-radius: 50%;\n",
              "      cursor: pointer;\n",
              "      display: none;\n",
              "      fill: #1967D2;\n",
              "      height: 32px;\n",
              "      padding: 0 0 0 0;\n",
              "      width: 32px;\n",
              "    }\n",
              "\n",
              "    .colab-df-convert:hover {\n",
              "      background-color: #E2EBFA;\n",
              "      box-shadow: 0px 1px 2px rgba(60, 64, 67, 0.3), 0px 1px 3px 1px rgba(60, 64, 67, 0.15);\n",
              "      fill: #174EA6;\n",
              "    }\n",
              "\n",
              "    .colab-df-buttons div {\n",
              "      margin-bottom: 4px;\n",
              "    }\n",
              "\n",
              "    [theme=dark] .colab-df-convert {\n",
              "      background-color: #3B4455;\n",
              "      fill: #D2E3FC;\n",
              "    }\n",
              "\n",
              "    [theme=dark] .colab-df-convert:hover {\n",
              "      background-color: #434B5C;\n",
              "      box-shadow: 0px 1px 3px 1px rgba(0, 0, 0, 0.15);\n",
              "      filter: drop-shadow(0px 1px 2px rgba(0, 0, 0, 0.3));\n",
              "      fill: #FFFFFF;\n",
              "    }\n",
              "  </style>\n",
              "\n",
              "    <script>\n",
              "      const buttonEl =\n",
              "        document.querySelector('#df-d3009f26-8dfc-4fae-aac2-ac6e86ce4acb button.colab-df-convert');\n",
              "      buttonEl.style.display =\n",
              "        google.colab.kernel.accessAllowed ? 'block' : 'none';\n",
              "\n",
              "      async function convertToInteractive(key) {\n",
              "        const element = document.querySelector('#df-d3009f26-8dfc-4fae-aac2-ac6e86ce4acb');\n",
              "        const dataTable =\n",
              "          await google.colab.kernel.invokeFunction('convertToInteractive',\n",
              "                                                    [key], {});\n",
              "        if (!dataTable) return;\n",
              "\n",
              "        const docLinkHtml = 'Like what you see? Visit the ' +\n",
              "          '<a target=\"_blank\" href=https://colab.research.google.com/notebooks/data_table.ipynb>data table notebook</a>'\n",
              "          + ' to learn more about interactive tables.';\n",
              "        element.innerHTML = '';\n",
              "        dataTable['output_type'] = 'display_data';\n",
              "        await google.colab.output.renderOutput(dataTable, element);\n",
              "        const docLink = document.createElement('div');\n",
              "        docLink.innerHTML = docLinkHtml;\n",
              "        element.appendChild(docLink);\n",
              "      }\n",
              "    </script>\n",
              "  </div>\n",
              "\n",
              "\n",
              "<div id=\"df-3af6a0d2-4a82-429c-9d83-73664deb4e99\">\n",
              "  <button class=\"colab-df-quickchart\" onclick=\"quickchart('df-3af6a0d2-4a82-429c-9d83-73664deb4e99')\"\n",
              "            title=\"Suggest charts.\"\n",
              "            style=\"display:none;\">\n",
              "\n",
              "<svg xmlns=\"http://www.w3.org/2000/svg\" height=\"24px\"viewBox=\"0 0 24 24\"\n",
              "     width=\"24px\">\n",
              "    <g>\n",
              "        <path d=\"M19 3H5c-1.1 0-2 .9-2 2v14c0 1.1.9 2 2 2h14c1.1 0 2-.9 2-2V5c0-1.1-.9-2-2-2zM9 17H7v-7h2v7zm4 0h-2V7h2v10zm4 0h-2v-4h2v4z\"/>\n",
              "    </g>\n",
              "</svg>\n",
              "  </button>\n",
              "\n",
              "<style>\n",
              "  .colab-df-quickchart {\n",
              "      --bg-color: #E8F0FE;\n",
              "      --fill-color: #1967D2;\n",
              "      --hover-bg-color: #E2EBFA;\n",
              "      --hover-fill-color: #174EA6;\n",
              "      --disabled-fill-color: #AAA;\n",
              "      --disabled-bg-color: #DDD;\n",
              "  }\n",
              "\n",
              "  [theme=dark] .colab-df-quickchart {\n",
              "      --bg-color: #3B4455;\n",
              "      --fill-color: #D2E3FC;\n",
              "      --hover-bg-color: #434B5C;\n",
              "      --hover-fill-color: #FFFFFF;\n",
              "      --disabled-bg-color: #3B4455;\n",
              "      --disabled-fill-color: #666;\n",
              "  }\n",
              "\n",
              "  .colab-df-quickchart {\n",
              "    background-color: var(--bg-color);\n",
              "    border: none;\n",
              "    border-radius: 50%;\n",
              "    cursor: pointer;\n",
              "    display: none;\n",
              "    fill: var(--fill-color);\n",
              "    height: 32px;\n",
              "    padding: 0;\n",
              "    width: 32px;\n",
              "  }\n",
              "\n",
              "  .colab-df-quickchart:hover {\n",
              "    background-color: var(--hover-bg-color);\n",
              "    box-shadow: 0 1px 2px rgba(60, 64, 67, 0.3), 0 1px 3px 1px rgba(60, 64, 67, 0.15);\n",
              "    fill: var(--button-hover-fill-color);\n",
              "  }\n",
              "\n",
              "  .colab-df-quickchart-complete:disabled,\n",
              "  .colab-df-quickchart-complete:disabled:hover {\n",
              "    background-color: var(--disabled-bg-color);\n",
              "    fill: var(--disabled-fill-color);\n",
              "    box-shadow: none;\n",
              "  }\n",
              "\n",
              "  .colab-df-spinner {\n",
              "    border: 2px solid var(--fill-color);\n",
              "    border-color: transparent;\n",
              "    border-bottom-color: var(--fill-color);\n",
              "    animation:\n",
              "      spin 1s steps(1) infinite;\n",
              "  }\n",
              "\n",
              "  @keyframes spin {\n",
              "    0% {\n",
              "      border-color: transparent;\n",
              "      border-bottom-color: var(--fill-color);\n",
              "      border-left-color: var(--fill-color);\n",
              "    }\n",
              "    20% {\n",
              "      border-color: transparent;\n",
              "      border-left-color: var(--fill-color);\n",
              "      border-top-color: var(--fill-color);\n",
              "    }\n",
              "    30% {\n",
              "      border-color: transparent;\n",
              "      border-left-color: var(--fill-color);\n",
              "      border-top-color: var(--fill-color);\n",
              "      border-right-color: var(--fill-color);\n",
              "    }\n",
              "    40% {\n",
              "      border-color: transparent;\n",
              "      border-right-color: var(--fill-color);\n",
              "      border-top-color: var(--fill-color);\n",
              "    }\n",
              "    60% {\n",
              "      border-color: transparent;\n",
              "      border-right-color: var(--fill-color);\n",
              "    }\n",
              "    80% {\n",
              "      border-color: transparent;\n",
              "      border-right-color: var(--fill-color);\n",
              "      border-bottom-color: var(--fill-color);\n",
              "    }\n",
              "    90% {\n",
              "      border-color: transparent;\n",
              "      border-bottom-color: var(--fill-color);\n",
              "    }\n",
              "  }\n",
              "</style>\n",
              "\n",
              "  <script>\n",
              "    async function quickchart(key) {\n",
              "      const quickchartButtonEl =\n",
              "        document.querySelector('#' + key + ' button');\n",
              "      quickchartButtonEl.disabled = true;  // To prevent multiple clicks.\n",
              "      quickchartButtonEl.classList.add('colab-df-spinner');\n",
              "      try {\n",
              "        const charts = await google.colab.kernel.invokeFunction(\n",
              "            'suggestCharts', [key], {});\n",
              "      } catch (error) {\n",
              "        console.error('Error during call to suggestCharts:', error);\n",
              "      }\n",
              "      quickchartButtonEl.classList.remove('colab-df-spinner');\n",
              "      quickchartButtonEl.classList.add('colab-df-quickchart-complete');\n",
              "    }\n",
              "    (() => {\n",
              "      let quickchartButtonEl =\n",
              "        document.querySelector('#df-3af6a0d2-4a82-429c-9d83-73664deb4e99 button');\n",
              "      quickchartButtonEl.style.display =\n",
              "        google.colab.kernel.accessAllowed ? 'block' : 'none';\n",
              "    })();\n",
              "  </script>\n",
              "</div>\n",
              "    </div>\n",
              "  </div>\n"
            ]
          },
          "metadata": {}
        }
      ]
    },
    {
      "cell_type": "markdown",
      "source": [],
      "metadata": {
        "id": "uBRGGxxJQZVz"
      }
    },
    {
      "cell_type": "code",
      "source": [
        "data.isnull().sum()/len(data)"
      ],
      "metadata": {
        "colab": {
          "base_uri": "https://localhost:8080/"
        },
        "id": "GWbnpcbfB1aJ",
        "outputId": "90e37b24-19cd-4ca4-ca05-2fc837765ba7"
      },
      "execution_count": 59,
      "outputs": [
        {
          "output_type": "execute_result",
          "data": {
            "text/plain": [
              "AGE                0.0\n",
              "SEX                0.0\n",
              "STEROID            0.0\n",
              "ANTIVIRALS         0.0\n",
              "FATIGUE            0.0\n",
              "MALAISE            0.0\n",
              "ANOREXIA           0.0\n",
              "LIVER BIG          0.0\n",
              "LIVER FIRM         0.0\n",
              "SPLEEN PALPABLE    0.0\n",
              "SPIDERS            0.0\n",
              "ASCITES            0.0\n",
              "VARICES            0.0\n",
              "BILIRUBIN          0.0\n",
              "ALK PHOSPHATE      0.0\n",
              "SGOT               0.0\n",
              "ALBUMIN            0.0\n",
              "PROTIME            0.0\n",
              "HISTOLOGY          0.0\n",
              "Class              0.0\n",
              "dtype: float64"
            ]
          },
          "metadata": {},
          "execution_count": 59
        }
      ]
    },
    {
      "cell_type": "code",
      "source": [
        "numericals = data.select_dtypes(np.number)\n",
        "numericals.head()"
      ],
      "metadata": {
        "colab": {
          "base_uri": "https://localhost:8080/",
          "height": 206
        },
        "id": "heK78D7sCZkK",
        "outputId": "5f7754c2-4bbf-467e-d35b-6c5e0491e3f8"
      },
      "execution_count": 60,
      "outputs": [
        {
          "output_type": "execute_result",
          "data": {
            "text/plain": [
              "   AGE  ANTIVIRALS  FATIGUE  MALAISE  ANOREXIA  HISTOLOGY\n",
              "0   48           2        1        1         2          2\n",
              "1   51           2        1        2         2          2\n",
              "2   40           2        1        2         2          1\n",
              "3   25           2        1        2         2          2\n",
              "4   34           2        1        2         2          1"
            ],
            "text/html": [
              "\n",
              "  <div id=\"df-590c6539-b841-4795-b15d-5921c4ed36ca\" class=\"colab-df-container\">\n",
              "    <div>\n",
              "<style scoped>\n",
              "    .dataframe tbody tr th:only-of-type {\n",
              "        vertical-align: middle;\n",
              "    }\n",
              "\n",
              "    .dataframe tbody tr th {\n",
              "        vertical-align: top;\n",
              "    }\n",
              "\n",
              "    .dataframe thead th {\n",
              "        text-align: right;\n",
              "    }\n",
              "</style>\n",
              "<table border=\"1\" class=\"dataframe\">\n",
              "  <thead>\n",
              "    <tr style=\"text-align: right;\">\n",
              "      <th></th>\n",
              "      <th>AGE</th>\n",
              "      <th>ANTIVIRALS</th>\n",
              "      <th>FATIGUE</th>\n",
              "      <th>MALAISE</th>\n",
              "      <th>ANOREXIA</th>\n",
              "      <th>HISTOLOGY</th>\n",
              "    </tr>\n",
              "  </thead>\n",
              "  <tbody>\n",
              "    <tr>\n",
              "      <th>0</th>\n",
              "      <td>48</td>\n",
              "      <td>2</td>\n",
              "      <td>1</td>\n",
              "      <td>1</td>\n",
              "      <td>2</td>\n",
              "      <td>2</td>\n",
              "    </tr>\n",
              "    <tr>\n",
              "      <th>1</th>\n",
              "      <td>51</td>\n",
              "      <td>2</td>\n",
              "      <td>1</td>\n",
              "      <td>2</td>\n",
              "      <td>2</td>\n",
              "      <td>2</td>\n",
              "    </tr>\n",
              "    <tr>\n",
              "      <th>2</th>\n",
              "      <td>40</td>\n",
              "      <td>2</td>\n",
              "      <td>1</td>\n",
              "      <td>2</td>\n",
              "      <td>2</td>\n",
              "      <td>1</td>\n",
              "    </tr>\n",
              "    <tr>\n",
              "      <th>3</th>\n",
              "      <td>25</td>\n",
              "      <td>2</td>\n",
              "      <td>1</td>\n",
              "      <td>2</td>\n",
              "      <td>2</td>\n",
              "      <td>2</td>\n",
              "    </tr>\n",
              "    <tr>\n",
              "      <th>4</th>\n",
              "      <td>34</td>\n",
              "      <td>2</td>\n",
              "      <td>1</td>\n",
              "      <td>2</td>\n",
              "      <td>2</td>\n",
              "      <td>1</td>\n",
              "    </tr>\n",
              "  </tbody>\n",
              "</table>\n",
              "</div>\n",
              "    <div class=\"colab-df-buttons\">\n",
              "\n",
              "  <div class=\"colab-df-container\">\n",
              "    <button class=\"colab-df-convert\" onclick=\"convertToInteractive('df-590c6539-b841-4795-b15d-5921c4ed36ca')\"\n",
              "            title=\"Convert this dataframe to an interactive table.\"\n",
              "            style=\"display:none;\">\n",
              "\n",
              "  <svg xmlns=\"http://www.w3.org/2000/svg\" height=\"24px\" viewBox=\"0 -960 960 960\">\n",
              "    <path d=\"M120-120v-720h720v720H120Zm60-500h600v-160H180v160Zm220 220h160v-160H400v160Zm0 220h160v-160H400v160ZM180-400h160v-160H180v160Zm440 0h160v-160H620v160ZM180-180h160v-160H180v160Zm440 0h160v-160H620v160Z\"/>\n",
              "  </svg>\n",
              "    </button>\n",
              "\n",
              "  <style>\n",
              "    .colab-df-container {\n",
              "      display:flex;\n",
              "      gap: 12px;\n",
              "    }\n",
              "\n",
              "    .colab-df-convert {\n",
              "      background-color: #E8F0FE;\n",
              "      border: none;\n",
              "      border-radius: 50%;\n",
              "      cursor: pointer;\n",
              "      display: none;\n",
              "      fill: #1967D2;\n",
              "      height: 32px;\n",
              "      padding: 0 0 0 0;\n",
              "      width: 32px;\n",
              "    }\n",
              "\n",
              "    .colab-df-convert:hover {\n",
              "      background-color: #E2EBFA;\n",
              "      box-shadow: 0px 1px 2px rgba(60, 64, 67, 0.3), 0px 1px 3px 1px rgba(60, 64, 67, 0.15);\n",
              "      fill: #174EA6;\n",
              "    }\n",
              "\n",
              "    .colab-df-buttons div {\n",
              "      margin-bottom: 4px;\n",
              "    }\n",
              "\n",
              "    [theme=dark] .colab-df-convert {\n",
              "      background-color: #3B4455;\n",
              "      fill: #D2E3FC;\n",
              "    }\n",
              "\n",
              "    [theme=dark] .colab-df-convert:hover {\n",
              "      background-color: #434B5C;\n",
              "      box-shadow: 0px 1px 3px 1px rgba(0, 0, 0, 0.15);\n",
              "      filter: drop-shadow(0px 1px 2px rgba(0, 0, 0, 0.3));\n",
              "      fill: #FFFFFF;\n",
              "    }\n",
              "  </style>\n",
              "\n",
              "    <script>\n",
              "      const buttonEl =\n",
              "        document.querySelector('#df-590c6539-b841-4795-b15d-5921c4ed36ca button.colab-df-convert');\n",
              "      buttonEl.style.display =\n",
              "        google.colab.kernel.accessAllowed ? 'block' : 'none';\n",
              "\n",
              "      async function convertToInteractive(key) {\n",
              "        const element = document.querySelector('#df-590c6539-b841-4795-b15d-5921c4ed36ca');\n",
              "        const dataTable =\n",
              "          await google.colab.kernel.invokeFunction('convertToInteractive',\n",
              "                                                    [key], {});\n",
              "        if (!dataTable) return;\n",
              "\n",
              "        const docLinkHtml = 'Like what you see? Visit the ' +\n",
              "          '<a target=\"_blank\" href=https://colab.research.google.com/notebooks/data_table.ipynb>data table notebook</a>'\n",
              "          + ' to learn more about interactive tables.';\n",
              "        element.innerHTML = '';\n",
              "        dataTable['output_type'] = 'display_data';\n",
              "        await google.colab.output.renderOutput(dataTable, element);\n",
              "        const docLink = document.createElement('div');\n",
              "        docLink.innerHTML = docLinkHtml;\n",
              "        element.appendChild(docLink);\n",
              "      }\n",
              "    </script>\n",
              "  </div>\n",
              "\n",
              "\n",
              "<div id=\"df-4e35c410-b98b-4a1b-a061-500ba7d5b47f\">\n",
              "  <button class=\"colab-df-quickchart\" onclick=\"quickchart('df-4e35c410-b98b-4a1b-a061-500ba7d5b47f')\"\n",
              "            title=\"Suggest charts.\"\n",
              "            style=\"display:none;\">\n",
              "\n",
              "<svg xmlns=\"http://www.w3.org/2000/svg\" height=\"24px\"viewBox=\"0 0 24 24\"\n",
              "     width=\"24px\">\n",
              "    <g>\n",
              "        <path d=\"M19 3H5c-1.1 0-2 .9-2 2v14c0 1.1.9 2 2 2h14c1.1 0 2-.9 2-2V5c0-1.1-.9-2-2-2zM9 17H7v-7h2v7zm4 0h-2V7h2v10zm4 0h-2v-4h2v4z\"/>\n",
              "    </g>\n",
              "</svg>\n",
              "  </button>\n",
              "\n",
              "<style>\n",
              "  .colab-df-quickchart {\n",
              "      --bg-color: #E8F0FE;\n",
              "      --fill-color: #1967D2;\n",
              "      --hover-bg-color: #E2EBFA;\n",
              "      --hover-fill-color: #174EA6;\n",
              "      --disabled-fill-color: #AAA;\n",
              "      --disabled-bg-color: #DDD;\n",
              "  }\n",
              "\n",
              "  [theme=dark] .colab-df-quickchart {\n",
              "      --bg-color: #3B4455;\n",
              "      --fill-color: #D2E3FC;\n",
              "      --hover-bg-color: #434B5C;\n",
              "      --hover-fill-color: #FFFFFF;\n",
              "      --disabled-bg-color: #3B4455;\n",
              "      --disabled-fill-color: #666;\n",
              "  }\n",
              "\n",
              "  .colab-df-quickchart {\n",
              "    background-color: var(--bg-color);\n",
              "    border: none;\n",
              "    border-radius: 50%;\n",
              "    cursor: pointer;\n",
              "    display: none;\n",
              "    fill: var(--fill-color);\n",
              "    height: 32px;\n",
              "    padding: 0;\n",
              "    width: 32px;\n",
              "  }\n",
              "\n",
              "  .colab-df-quickchart:hover {\n",
              "    background-color: var(--hover-bg-color);\n",
              "    box-shadow: 0 1px 2px rgba(60, 64, 67, 0.3), 0 1px 3px 1px rgba(60, 64, 67, 0.15);\n",
              "    fill: var(--button-hover-fill-color);\n",
              "  }\n",
              "\n",
              "  .colab-df-quickchart-complete:disabled,\n",
              "  .colab-df-quickchart-complete:disabled:hover {\n",
              "    background-color: var(--disabled-bg-color);\n",
              "    fill: var(--disabled-fill-color);\n",
              "    box-shadow: none;\n",
              "  }\n",
              "\n",
              "  .colab-df-spinner {\n",
              "    border: 2px solid var(--fill-color);\n",
              "    border-color: transparent;\n",
              "    border-bottom-color: var(--fill-color);\n",
              "    animation:\n",
              "      spin 1s steps(1) infinite;\n",
              "  }\n",
              "\n",
              "  @keyframes spin {\n",
              "    0% {\n",
              "      border-color: transparent;\n",
              "      border-bottom-color: var(--fill-color);\n",
              "      border-left-color: var(--fill-color);\n",
              "    }\n",
              "    20% {\n",
              "      border-color: transparent;\n",
              "      border-left-color: var(--fill-color);\n",
              "      border-top-color: var(--fill-color);\n",
              "    }\n",
              "    30% {\n",
              "      border-color: transparent;\n",
              "      border-left-color: var(--fill-color);\n",
              "      border-top-color: var(--fill-color);\n",
              "      border-right-color: var(--fill-color);\n",
              "    }\n",
              "    40% {\n",
              "      border-color: transparent;\n",
              "      border-right-color: var(--fill-color);\n",
              "      border-top-color: var(--fill-color);\n",
              "    }\n",
              "    60% {\n",
              "      border-color: transparent;\n",
              "      border-right-color: var(--fill-color);\n",
              "    }\n",
              "    80% {\n",
              "      border-color: transparent;\n",
              "      border-right-color: var(--fill-color);\n",
              "      border-bottom-color: var(--fill-color);\n",
              "    }\n",
              "    90% {\n",
              "      border-color: transparent;\n",
              "      border-bottom-color: var(--fill-color);\n",
              "    }\n",
              "  }\n",
              "</style>\n",
              "\n",
              "  <script>\n",
              "    async function quickchart(key) {\n",
              "      const quickchartButtonEl =\n",
              "        document.querySelector('#' + key + ' button');\n",
              "      quickchartButtonEl.disabled = true;  // To prevent multiple clicks.\n",
              "      quickchartButtonEl.classList.add('colab-df-spinner');\n",
              "      try {\n",
              "        const charts = await google.colab.kernel.invokeFunction(\n",
              "            'suggestCharts', [key], {});\n",
              "      } catch (error) {\n",
              "        console.error('Error during call to suggestCharts:', error);\n",
              "      }\n",
              "      quickchartButtonEl.classList.remove('colab-df-spinner');\n",
              "      quickchartButtonEl.classList.add('colab-df-quickchart-complete');\n",
              "    }\n",
              "    (() => {\n",
              "      let quickchartButtonEl =\n",
              "        document.querySelector('#df-4e35c410-b98b-4a1b-a061-500ba7d5b47f button');\n",
              "      quickchartButtonEl.style.display =\n",
              "        google.colab.kernel.accessAllowed ? 'block' : 'none';\n",
              "    })();\n",
              "  </script>\n",
              "</div>\n",
              "    </div>\n",
              "  </div>\n"
            ]
          },
          "metadata": {},
          "execution_count": 60
        }
      ]
    },
    {
      "cell_type": "code",
      "source": [
        "numericals.describe"
      ],
      "metadata": {
        "colab": {
          "base_uri": "https://localhost:8080/"
        },
        "id": "By40OMy-FDlk",
        "outputId": "9ec0f868-62c3-495e-fd50-10e59babfc35"
      },
      "execution_count": 61,
      "outputs": [
        {
          "output_type": "execute_result",
          "data": {
            "text/plain": [
              "<bound method NDFrame.describe of      AGE  ANTIVIRALS  FATIGUE  MALAISE  ANOREXIA  HISTOLOGY\n",
              "0     48           2        1        1         2          2\n",
              "1     51           2        1        2         2          2\n",
              "2     40           2        1        2         2          1\n",
              "3     25           2        1        2         2          2\n",
              "4     34           2        1        2         2          1\n",
              "..   ...         ...      ...      ...       ...        ...\n",
              "97    23           2        1        1         1          1\n",
              "98    38           2        2        2         2          2\n",
              "99    36           2        2        2         2          1\n",
              "100   32           1        1        1         2          1\n",
              "101   54           1        2        2         2          2\n",
              "\n",
              "[102 rows x 6 columns]>"
            ]
          },
          "metadata": {},
          "execution_count": 61
        }
      ]
    },
    {
      "cell_type": "markdown",
      "source": [
        "### Cleaning"
      ],
      "metadata": {
        "id": "XNENs7mtCqNL"
      }
    },
    {
      "cell_type": "code",
      "source": [
        "df=data.copy()\n",
        "df['SEX'] = df['SEX'].apply(lambda x: 'F' if 'f' in x.lower() else 'M')\n",
        "df['SEX'].value_counts()"
      ],
      "metadata": {
        "colab": {
          "base_uri": "https://localhost:8080/"
        },
        "id": "BuSjtIjPGnMk",
        "outputId": "4a78ea2b-717f-4b77-d81a-ec583d877352"
      },
      "execution_count": 62,
      "outputs": [
        {
          "output_type": "execute_result",
          "data": {
            "text/plain": [
              "M    92\n",
              "F    10\n",
              "Name: SEX, dtype: int64"
            ]
          },
          "metadata": {},
          "execution_count": 62
        }
      ]
    },
    {
      "cell_type": "code",
      "source": [
        "# Replace value 'c' in column 'col' with the mean of column 'col'.\n",
        "def replace_by_median(data, col, c):\n",
        "    data[col].mask(data[col] == c, 0, inplace=True)\n",
        "    data[col] = pd.to_numeric(data[col])\n",
        "    data[col].mask(data[col] == 0, data[col].median(), inplace=True)\n",
        "\n",
        "def clean_categorical_columns(data):\n",
        "    for col in data.columns:\n",
        "        if pd.api.types.is_categorical_dtype(data[col]):\n",
        "            unique_values = data[col].unique()\n",
        "            for value in unique_values:\n",
        "                if pd.notna(value):\n",
        "                    replace_by_mean(data, col, value)\n",
        "    return data"
      ],
      "metadata": {
        "id": "279SiWP9CgSD"
      },
      "execution_count": 63,
      "outputs": []
    },
    {
      "cell_type": "code",
      "source": [
        "def replace_question_marks_with_median(data):\n",
        "    for col in data.columns:\n",
        "        # Check if the column contains question marks\n",
        "        if data[col].dtype == object and data[col].str.contains('\\?').any():\n",
        "            # Replace question marks with NaN\n",
        "            data[col] = data[col].replace('?', np.nan)\n",
        "            # Convert the column to a numeric type\n",
        "            data[col] = pd.to_numeric(data[col])\n",
        "            # Calculate the median of the column\n",
        "            median = data[col].median()\n",
        "            # Replace NaN values with the median\n",
        "            data[col].fillna(median, inplace=True)\n",
        "    return data"
      ],
      "metadata": {
        "id": "U31JSRv-JJSb"
      },
      "execution_count": 64,
      "outputs": []
    },
    {
      "cell_type": "code",
      "source": [
        "#clean it\n",
        "df=clean_categorical_columns(df)\n",
        "display(df.head(),df['SEX'].value_counts())"
      ],
      "metadata": {
        "colab": {
          "base_uri": "https://localhost:8080/",
          "height": 298
        },
        "id": "rLG6MBFMH7jk",
        "outputId": "271d6100-f80d-4180-c369-7f89da5f618e"
      },
      "execution_count": 65,
      "outputs": [
        {
          "output_type": "display_data",
          "data": {
            "text/plain": [
              "   AGE SEX STEROID  ANTIVIRALS  FATIGUE  MALAISE  ANOREXIA LIVER BIG  \\\n",
              "0   48   M       1           2        1        1         2         2   \n",
              "1   51   M       2           2        1        2         2         2   \n",
              "2   40   M       1           2        1        2         2         2   \n",
              "3   25   M       2           2        1        2         2         1   \n",
              "4   34   M       1           2        1        2         2         1   \n",
              "\n",
              "  LIVER FIRM SPLEEN PALPABLE SPIDERS ASCITES VARICES BILIRUBIN ALK PHOSPHATE  \\\n",
              "0          1               2       1       1       1      4.80           123   \n",
              "1          1               1       1       2       1      1.00             ?   \n",
              "2          1               2       2       2       2      0.60            62   \n",
              "3          1               1       1       1       1      1.30           181   \n",
              "4          1               2       1       2       2      1.00            72   \n",
              "\n",
              "  SGOT ALBUMIN PROTIME  HISTOLOGY Class  \n",
              "0  157     2.7      31          2   DIE  \n",
              "1   20     3.0      63          2  LIVE  \n",
              "2  166     4.0      63          1  LIVE  \n",
              "3  181     4.5      57          2  LIVE  \n",
              "4   46     4.4      57          1  LIVE  "
            ],
            "text/html": [
              "\n",
              "  <div id=\"df-97734ae9-76e9-480e-a650-274191e4b463\" class=\"colab-df-container\">\n",
              "    <div>\n",
              "<style scoped>\n",
              "    .dataframe tbody tr th:only-of-type {\n",
              "        vertical-align: middle;\n",
              "    }\n",
              "\n",
              "    .dataframe tbody tr th {\n",
              "        vertical-align: top;\n",
              "    }\n",
              "\n",
              "    .dataframe thead th {\n",
              "        text-align: right;\n",
              "    }\n",
              "</style>\n",
              "<table border=\"1\" class=\"dataframe\">\n",
              "  <thead>\n",
              "    <tr style=\"text-align: right;\">\n",
              "      <th></th>\n",
              "      <th>AGE</th>\n",
              "      <th>SEX</th>\n",
              "      <th>STEROID</th>\n",
              "      <th>ANTIVIRALS</th>\n",
              "      <th>FATIGUE</th>\n",
              "      <th>MALAISE</th>\n",
              "      <th>ANOREXIA</th>\n",
              "      <th>LIVER BIG</th>\n",
              "      <th>LIVER FIRM</th>\n",
              "      <th>SPLEEN PALPABLE</th>\n",
              "      <th>SPIDERS</th>\n",
              "      <th>ASCITES</th>\n",
              "      <th>VARICES</th>\n",
              "      <th>BILIRUBIN</th>\n",
              "      <th>ALK PHOSPHATE</th>\n",
              "      <th>SGOT</th>\n",
              "      <th>ALBUMIN</th>\n",
              "      <th>PROTIME</th>\n",
              "      <th>HISTOLOGY</th>\n",
              "      <th>Class</th>\n",
              "    </tr>\n",
              "  </thead>\n",
              "  <tbody>\n",
              "    <tr>\n",
              "      <th>0</th>\n",
              "      <td>48</td>\n",
              "      <td>M</td>\n",
              "      <td>1</td>\n",
              "      <td>2</td>\n",
              "      <td>1</td>\n",
              "      <td>1</td>\n",
              "      <td>2</td>\n",
              "      <td>2</td>\n",
              "      <td>1</td>\n",
              "      <td>2</td>\n",
              "      <td>1</td>\n",
              "      <td>1</td>\n",
              "      <td>1</td>\n",
              "      <td>4.80</td>\n",
              "      <td>123</td>\n",
              "      <td>157</td>\n",
              "      <td>2.7</td>\n",
              "      <td>31</td>\n",
              "      <td>2</td>\n",
              "      <td>DIE</td>\n",
              "    </tr>\n",
              "    <tr>\n",
              "      <th>1</th>\n",
              "      <td>51</td>\n",
              "      <td>M</td>\n",
              "      <td>2</td>\n",
              "      <td>2</td>\n",
              "      <td>1</td>\n",
              "      <td>2</td>\n",
              "      <td>2</td>\n",
              "      <td>2</td>\n",
              "      <td>1</td>\n",
              "      <td>1</td>\n",
              "      <td>1</td>\n",
              "      <td>2</td>\n",
              "      <td>1</td>\n",
              "      <td>1.00</td>\n",
              "      <td>?</td>\n",
              "      <td>20</td>\n",
              "      <td>3.0</td>\n",
              "      <td>63</td>\n",
              "      <td>2</td>\n",
              "      <td>LIVE</td>\n",
              "    </tr>\n",
              "    <tr>\n",
              "      <th>2</th>\n",
              "      <td>40</td>\n",
              "      <td>M</td>\n",
              "      <td>1</td>\n",
              "      <td>2</td>\n",
              "      <td>1</td>\n",
              "      <td>2</td>\n",
              "      <td>2</td>\n",
              "      <td>2</td>\n",
              "      <td>1</td>\n",
              "      <td>2</td>\n",
              "      <td>2</td>\n",
              "      <td>2</td>\n",
              "      <td>2</td>\n",
              "      <td>0.60</td>\n",
              "      <td>62</td>\n",
              "      <td>166</td>\n",
              "      <td>4.0</td>\n",
              "      <td>63</td>\n",
              "      <td>1</td>\n",
              "      <td>LIVE</td>\n",
              "    </tr>\n",
              "    <tr>\n",
              "      <th>3</th>\n",
              "      <td>25</td>\n",
              "      <td>M</td>\n",
              "      <td>2</td>\n",
              "      <td>2</td>\n",
              "      <td>1</td>\n",
              "      <td>2</td>\n",
              "      <td>2</td>\n",
              "      <td>1</td>\n",
              "      <td>1</td>\n",
              "      <td>1</td>\n",
              "      <td>1</td>\n",
              "      <td>1</td>\n",
              "      <td>1</td>\n",
              "      <td>1.30</td>\n",
              "      <td>181</td>\n",
              "      <td>181</td>\n",
              "      <td>4.5</td>\n",
              "      <td>57</td>\n",
              "      <td>2</td>\n",
              "      <td>LIVE</td>\n",
              "    </tr>\n",
              "    <tr>\n",
              "      <th>4</th>\n",
              "      <td>34</td>\n",
              "      <td>M</td>\n",
              "      <td>1</td>\n",
              "      <td>2</td>\n",
              "      <td>1</td>\n",
              "      <td>2</td>\n",
              "      <td>2</td>\n",
              "      <td>1</td>\n",
              "      <td>1</td>\n",
              "      <td>2</td>\n",
              "      <td>1</td>\n",
              "      <td>2</td>\n",
              "      <td>2</td>\n",
              "      <td>1.00</td>\n",
              "      <td>72</td>\n",
              "      <td>46</td>\n",
              "      <td>4.4</td>\n",
              "      <td>57</td>\n",
              "      <td>1</td>\n",
              "      <td>LIVE</td>\n",
              "    </tr>\n",
              "  </tbody>\n",
              "</table>\n",
              "</div>\n",
              "    <div class=\"colab-df-buttons\">\n",
              "\n",
              "  <div class=\"colab-df-container\">\n",
              "    <button class=\"colab-df-convert\" onclick=\"convertToInteractive('df-97734ae9-76e9-480e-a650-274191e4b463')\"\n",
              "            title=\"Convert this dataframe to an interactive table.\"\n",
              "            style=\"display:none;\">\n",
              "\n",
              "  <svg xmlns=\"http://www.w3.org/2000/svg\" height=\"24px\" viewBox=\"0 -960 960 960\">\n",
              "    <path d=\"M120-120v-720h720v720H120Zm60-500h600v-160H180v160Zm220 220h160v-160H400v160Zm0 220h160v-160H400v160ZM180-400h160v-160H180v160Zm440 0h160v-160H620v160ZM180-180h160v-160H180v160Zm440 0h160v-160H620v160Z\"/>\n",
              "  </svg>\n",
              "    </button>\n",
              "\n",
              "  <style>\n",
              "    .colab-df-container {\n",
              "      display:flex;\n",
              "      gap: 12px;\n",
              "    }\n",
              "\n",
              "    .colab-df-convert {\n",
              "      background-color: #E8F0FE;\n",
              "      border: none;\n",
              "      border-radius: 50%;\n",
              "      cursor: pointer;\n",
              "      display: none;\n",
              "      fill: #1967D2;\n",
              "      height: 32px;\n",
              "      padding: 0 0 0 0;\n",
              "      width: 32px;\n",
              "    }\n",
              "\n",
              "    .colab-df-convert:hover {\n",
              "      background-color: #E2EBFA;\n",
              "      box-shadow: 0px 1px 2px rgba(60, 64, 67, 0.3), 0px 1px 3px 1px rgba(60, 64, 67, 0.15);\n",
              "      fill: #174EA6;\n",
              "    }\n",
              "\n",
              "    .colab-df-buttons div {\n",
              "      margin-bottom: 4px;\n",
              "    }\n",
              "\n",
              "    [theme=dark] .colab-df-convert {\n",
              "      background-color: #3B4455;\n",
              "      fill: #D2E3FC;\n",
              "    }\n",
              "\n",
              "    [theme=dark] .colab-df-convert:hover {\n",
              "      background-color: #434B5C;\n",
              "      box-shadow: 0px 1px 3px 1px rgba(0, 0, 0, 0.15);\n",
              "      filter: drop-shadow(0px 1px 2px rgba(0, 0, 0, 0.3));\n",
              "      fill: #FFFFFF;\n",
              "    }\n",
              "  </style>\n",
              "\n",
              "    <script>\n",
              "      const buttonEl =\n",
              "        document.querySelector('#df-97734ae9-76e9-480e-a650-274191e4b463 button.colab-df-convert');\n",
              "      buttonEl.style.display =\n",
              "        google.colab.kernel.accessAllowed ? 'block' : 'none';\n",
              "\n",
              "      async function convertToInteractive(key) {\n",
              "        const element = document.querySelector('#df-97734ae9-76e9-480e-a650-274191e4b463');\n",
              "        const dataTable =\n",
              "          await google.colab.kernel.invokeFunction('convertToInteractive',\n",
              "                                                    [key], {});\n",
              "        if (!dataTable) return;\n",
              "\n",
              "        const docLinkHtml = 'Like what you see? Visit the ' +\n",
              "          '<a target=\"_blank\" href=https://colab.research.google.com/notebooks/data_table.ipynb>data table notebook</a>'\n",
              "          + ' to learn more about interactive tables.';\n",
              "        element.innerHTML = '';\n",
              "        dataTable['output_type'] = 'display_data';\n",
              "        await google.colab.output.renderOutput(dataTable, element);\n",
              "        const docLink = document.createElement('div');\n",
              "        docLink.innerHTML = docLinkHtml;\n",
              "        element.appendChild(docLink);\n",
              "      }\n",
              "    </script>\n",
              "  </div>\n",
              "\n",
              "\n",
              "<div id=\"df-42b00231-3ec4-4d42-9882-b0a1715316a7\">\n",
              "  <button class=\"colab-df-quickchart\" onclick=\"quickchart('df-42b00231-3ec4-4d42-9882-b0a1715316a7')\"\n",
              "            title=\"Suggest charts.\"\n",
              "            style=\"display:none;\">\n",
              "\n",
              "<svg xmlns=\"http://www.w3.org/2000/svg\" height=\"24px\"viewBox=\"0 0 24 24\"\n",
              "     width=\"24px\">\n",
              "    <g>\n",
              "        <path d=\"M19 3H5c-1.1 0-2 .9-2 2v14c0 1.1.9 2 2 2h14c1.1 0 2-.9 2-2V5c0-1.1-.9-2-2-2zM9 17H7v-7h2v7zm4 0h-2V7h2v10zm4 0h-2v-4h2v4z\"/>\n",
              "    </g>\n",
              "</svg>\n",
              "  </button>\n",
              "\n",
              "<style>\n",
              "  .colab-df-quickchart {\n",
              "      --bg-color: #E8F0FE;\n",
              "      --fill-color: #1967D2;\n",
              "      --hover-bg-color: #E2EBFA;\n",
              "      --hover-fill-color: #174EA6;\n",
              "      --disabled-fill-color: #AAA;\n",
              "      --disabled-bg-color: #DDD;\n",
              "  }\n",
              "\n",
              "  [theme=dark] .colab-df-quickchart {\n",
              "      --bg-color: #3B4455;\n",
              "      --fill-color: #D2E3FC;\n",
              "      --hover-bg-color: #434B5C;\n",
              "      --hover-fill-color: #FFFFFF;\n",
              "      --disabled-bg-color: #3B4455;\n",
              "      --disabled-fill-color: #666;\n",
              "  }\n",
              "\n",
              "  .colab-df-quickchart {\n",
              "    background-color: var(--bg-color);\n",
              "    border: none;\n",
              "    border-radius: 50%;\n",
              "    cursor: pointer;\n",
              "    display: none;\n",
              "    fill: var(--fill-color);\n",
              "    height: 32px;\n",
              "    padding: 0;\n",
              "    width: 32px;\n",
              "  }\n",
              "\n",
              "  .colab-df-quickchart:hover {\n",
              "    background-color: var(--hover-bg-color);\n",
              "    box-shadow: 0 1px 2px rgba(60, 64, 67, 0.3), 0 1px 3px 1px rgba(60, 64, 67, 0.15);\n",
              "    fill: var(--button-hover-fill-color);\n",
              "  }\n",
              "\n",
              "  .colab-df-quickchart-complete:disabled,\n",
              "  .colab-df-quickchart-complete:disabled:hover {\n",
              "    background-color: var(--disabled-bg-color);\n",
              "    fill: var(--disabled-fill-color);\n",
              "    box-shadow: none;\n",
              "  }\n",
              "\n",
              "  .colab-df-spinner {\n",
              "    border: 2px solid var(--fill-color);\n",
              "    border-color: transparent;\n",
              "    border-bottom-color: var(--fill-color);\n",
              "    animation:\n",
              "      spin 1s steps(1) infinite;\n",
              "  }\n",
              "\n",
              "  @keyframes spin {\n",
              "    0% {\n",
              "      border-color: transparent;\n",
              "      border-bottom-color: var(--fill-color);\n",
              "      border-left-color: var(--fill-color);\n",
              "    }\n",
              "    20% {\n",
              "      border-color: transparent;\n",
              "      border-left-color: var(--fill-color);\n",
              "      border-top-color: var(--fill-color);\n",
              "    }\n",
              "    30% {\n",
              "      border-color: transparent;\n",
              "      border-left-color: var(--fill-color);\n",
              "      border-top-color: var(--fill-color);\n",
              "      border-right-color: var(--fill-color);\n",
              "    }\n",
              "    40% {\n",
              "      border-color: transparent;\n",
              "      border-right-color: var(--fill-color);\n",
              "      border-top-color: var(--fill-color);\n",
              "    }\n",
              "    60% {\n",
              "      border-color: transparent;\n",
              "      border-right-color: var(--fill-color);\n",
              "    }\n",
              "    80% {\n",
              "      border-color: transparent;\n",
              "      border-right-color: var(--fill-color);\n",
              "      border-bottom-color: var(--fill-color);\n",
              "    }\n",
              "    90% {\n",
              "      border-color: transparent;\n",
              "      border-bottom-color: var(--fill-color);\n",
              "    }\n",
              "  }\n",
              "</style>\n",
              "\n",
              "  <script>\n",
              "    async function quickchart(key) {\n",
              "      const quickchartButtonEl =\n",
              "        document.querySelector('#' + key + ' button');\n",
              "      quickchartButtonEl.disabled = true;  // To prevent multiple clicks.\n",
              "      quickchartButtonEl.classList.add('colab-df-spinner');\n",
              "      try {\n",
              "        const charts = await google.colab.kernel.invokeFunction(\n",
              "            'suggestCharts', [key], {});\n",
              "      } catch (error) {\n",
              "        console.error('Error during call to suggestCharts:', error);\n",
              "      }\n",
              "      quickchartButtonEl.classList.remove('colab-df-spinner');\n",
              "      quickchartButtonEl.classList.add('colab-df-quickchart-complete');\n",
              "    }\n",
              "    (() => {\n",
              "      let quickchartButtonEl =\n",
              "        document.querySelector('#df-42b00231-3ec4-4d42-9882-b0a1715316a7 button');\n",
              "      quickchartButtonEl.style.display =\n",
              "        google.colab.kernel.accessAllowed ? 'block' : 'none';\n",
              "    })();\n",
              "  </script>\n",
              "</div>\n",
              "    </div>\n",
              "  </div>\n"
            ]
          },
          "metadata": {}
        },
        {
          "output_type": "display_data",
          "data": {
            "text/plain": [
              "M    92\n",
              "F    10\n",
              "Name: SEX, dtype: int64"
            ]
          },
          "metadata": {}
        }
      ]
    },
    {
      "cell_type": "code",
      "source": [
        "df=replace_question_marks_with_median(df)\n",
        "display(df.head(),df['SEX'].value_counts())"
      ],
      "metadata": {
        "colab": {
          "base_uri": "https://localhost:8080/",
          "height": 298
        },
        "id": "V-OuP1zxJN4T",
        "outputId": "28abc61e-a34c-44b8-dd4d-9833787625c4"
      },
      "execution_count": 66,
      "outputs": [
        {
          "output_type": "display_data",
          "data": {
            "text/plain": [
              "   AGE SEX  STEROID  ANTIVIRALS  FATIGUE  MALAISE  ANOREXIA  LIVER BIG  \\\n",
              "0   48   M      1.0           2        1        1         2        2.0   \n",
              "1   51   M      2.0           2        1        2         2        2.0   \n",
              "2   40   M      1.0           2        1        2         2        2.0   \n",
              "3   25   M      2.0           2        1        2         2        1.0   \n",
              "4   34   M      1.0           2        1        2         2        1.0   \n",
              "\n",
              "   LIVER FIRM  SPLEEN PALPABLE  SPIDERS  ASCITES  VARICES  BILIRUBIN  \\\n",
              "0         1.0              2.0      1.0      1.0      1.0        4.8   \n",
              "1         1.0              1.0      1.0      2.0      1.0        1.0   \n",
              "2         1.0              2.0      2.0      2.0      2.0        0.6   \n",
              "3         1.0              1.0      1.0      1.0      1.0        1.3   \n",
              "4         1.0              2.0      1.0      2.0      2.0        1.0   \n",
              "\n",
              "   ALK PHOSPHATE   SGOT  ALBUMIN  PROTIME  HISTOLOGY Class  \n",
              "0          123.0  157.0      2.7     31.0          2   DIE  \n",
              "1           85.0   20.0      3.0     63.0          2  LIVE  \n",
              "2           62.0  166.0      4.0     63.0          1  LIVE  \n",
              "3          181.0  181.0      4.5     57.0          2  LIVE  \n",
              "4           72.0   46.0      4.4     57.0          1  LIVE  "
            ],
            "text/html": [
              "\n",
              "  <div id=\"df-67a86a13-4a2a-42d8-9823-84311f4fe026\" class=\"colab-df-container\">\n",
              "    <div>\n",
              "<style scoped>\n",
              "    .dataframe tbody tr th:only-of-type {\n",
              "        vertical-align: middle;\n",
              "    }\n",
              "\n",
              "    .dataframe tbody tr th {\n",
              "        vertical-align: top;\n",
              "    }\n",
              "\n",
              "    .dataframe thead th {\n",
              "        text-align: right;\n",
              "    }\n",
              "</style>\n",
              "<table border=\"1\" class=\"dataframe\">\n",
              "  <thead>\n",
              "    <tr style=\"text-align: right;\">\n",
              "      <th></th>\n",
              "      <th>AGE</th>\n",
              "      <th>SEX</th>\n",
              "      <th>STEROID</th>\n",
              "      <th>ANTIVIRALS</th>\n",
              "      <th>FATIGUE</th>\n",
              "      <th>MALAISE</th>\n",
              "      <th>ANOREXIA</th>\n",
              "      <th>LIVER BIG</th>\n",
              "      <th>LIVER FIRM</th>\n",
              "      <th>SPLEEN PALPABLE</th>\n",
              "      <th>SPIDERS</th>\n",
              "      <th>ASCITES</th>\n",
              "      <th>VARICES</th>\n",
              "      <th>BILIRUBIN</th>\n",
              "      <th>ALK PHOSPHATE</th>\n",
              "      <th>SGOT</th>\n",
              "      <th>ALBUMIN</th>\n",
              "      <th>PROTIME</th>\n",
              "      <th>HISTOLOGY</th>\n",
              "      <th>Class</th>\n",
              "    </tr>\n",
              "  </thead>\n",
              "  <tbody>\n",
              "    <tr>\n",
              "      <th>0</th>\n",
              "      <td>48</td>\n",
              "      <td>M</td>\n",
              "      <td>1.0</td>\n",
              "      <td>2</td>\n",
              "      <td>1</td>\n",
              "      <td>1</td>\n",
              "      <td>2</td>\n",
              "      <td>2.0</td>\n",
              "      <td>1.0</td>\n",
              "      <td>2.0</td>\n",
              "      <td>1.0</td>\n",
              "      <td>1.0</td>\n",
              "      <td>1.0</td>\n",
              "      <td>4.8</td>\n",
              "      <td>123.0</td>\n",
              "      <td>157.0</td>\n",
              "      <td>2.7</td>\n",
              "      <td>31.0</td>\n",
              "      <td>2</td>\n",
              "      <td>DIE</td>\n",
              "    </tr>\n",
              "    <tr>\n",
              "      <th>1</th>\n",
              "      <td>51</td>\n",
              "      <td>M</td>\n",
              "      <td>2.0</td>\n",
              "      <td>2</td>\n",
              "      <td>1</td>\n",
              "      <td>2</td>\n",
              "      <td>2</td>\n",
              "      <td>2.0</td>\n",
              "      <td>1.0</td>\n",
              "      <td>1.0</td>\n",
              "      <td>1.0</td>\n",
              "      <td>2.0</td>\n",
              "      <td>1.0</td>\n",
              "      <td>1.0</td>\n",
              "      <td>85.0</td>\n",
              "      <td>20.0</td>\n",
              "      <td>3.0</td>\n",
              "      <td>63.0</td>\n",
              "      <td>2</td>\n",
              "      <td>LIVE</td>\n",
              "    </tr>\n",
              "    <tr>\n",
              "      <th>2</th>\n",
              "      <td>40</td>\n",
              "      <td>M</td>\n",
              "      <td>1.0</td>\n",
              "      <td>2</td>\n",
              "      <td>1</td>\n",
              "      <td>2</td>\n",
              "      <td>2</td>\n",
              "      <td>2.0</td>\n",
              "      <td>1.0</td>\n",
              "      <td>2.0</td>\n",
              "      <td>2.0</td>\n",
              "      <td>2.0</td>\n",
              "      <td>2.0</td>\n",
              "      <td>0.6</td>\n",
              "      <td>62.0</td>\n",
              "      <td>166.0</td>\n",
              "      <td>4.0</td>\n",
              "      <td>63.0</td>\n",
              "      <td>1</td>\n",
              "      <td>LIVE</td>\n",
              "    </tr>\n",
              "    <tr>\n",
              "      <th>3</th>\n",
              "      <td>25</td>\n",
              "      <td>M</td>\n",
              "      <td>2.0</td>\n",
              "      <td>2</td>\n",
              "      <td>1</td>\n",
              "      <td>2</td>\n",
              "      <td>2</td>\n",
              "      <td>1.0</td>\n",
              "      <td>1.0</td>\n",
              "      <td>1.0</td>\n",
              "      <td>1.0</td>\n",
              "      <td>1.0</td>\n",
              "      <td>1.0</td>\n",
              "      <td>1.3</td>\n",
              "      <td>181.0</td>\n",
              "      <td>181.0</td>\n",
              "      <td>4.5</td>\n",
              "      <td>57.0</td>\n",
              "      <td>2</td>\n",
              "      <td>LIVE</td>\n",
              "    </tr>\n",
              "    <tr>\n",
              "      <th>4</th>\n",
              "      <td>34</td>\n",
              "      <td>M</td>\n",
              "      <td>1.0</td>\n",
              "      <td>2</td>\n",
              "      <td>1</td>\n",
              "      <td>2</td>\n",
              "      <td>2</td>\n",
              "      <td>1.0</td>\n",
              "      <td>1.0</td>\n",
              "      <td>2.0</td>\n",
              "      <td>1.0</td>\n",
              "      <td>2.0</td>\n",
              "      <td>2.0</td>\n",
              "      <td>1.0</td>\n",
              "      <td>72.0</td>\n",
              "      <td>46.0</td>\n",
              "      <td>4.4</td>\n",
              "      <td>57.0</td>\n",
              "      <td>1</td>\n",
              "      <td>LIVE</td>\n",
              "    </tr>\n",
              "  </tbody>\n",
              "</table>\n",
              "</div>\n",
              "    <div class=\"colab-df-buttons\">\n",
              "\n",
              "  <div class=\"colab-df-container\">\n",
              "    <button class=\"colab-df-convert\" onclick=\"convertToInteractive('df-67a86a13-4a2a-42d8-9823-84311f4fe026')\"\n",
              "            title=\"Convert this dataframe to an interactive table.\"\n",
              "            style=\"display:none;\">\n",
              "\n",
              "  <svg xmlns=\"http://www.w3.org/2000/svg\" height=\"24px\" viewBox=\"0 -960 960 960\">\n",
              "    <path d=\"M120-120v-720h720v720H120Zm60-500h600v-160H180v160Zm220 220h160v-160H400v160Zm0 220h160v-160H400v160ZM180-400h160v-160H180v160Zm440 0h160v-160H620v160ZM180-180h160v-160H180v160Zm440 0h160v-160H620v160Z\"/>\n",
              "  </svg>\n",
              "    </button>\n",
              "\n",
              "  <style>\n",
              "    .colab-df-container {\n",
              "      display:flex;\n",
              "      gap: 12px;\n",
              "    }\n",
              "\n",
              "    .colab-df-convert {\n",
              "      background-color: #E8F0FE;\n",
              "      border: none;\n",
              "      border-radius: 50%;\n",
              "      cursor: pointer;\n",
              "      display: none;\n",
              "      fill: #1967D2;\n",
              "      height: 32px;\n",
              "      padding: 0 0 0 0;\n",
              "      width: 32px;\n",
              "    }\n",
              "\n",
              "    .colab-df-convert:hover {\n",
              "      background-color: #E2EBFA;\n",
              "      box-shadow: 0px 1px 2px rgba(60, 64, 67, 0.3), 0px 1px 3px 1px rgba(60, 64, 67, 0.15);\n",
              "      fill: #174EA6;\n",
              "    }\n",
              "\n",
              "    .colab-df-buttons div {\n",
              "      margin-bottom: 4px;\n",
              "    }\n",
              "\n",
              "    [theme=dark] .colab-df-convert {\n",
              "      background-color: #3B4455;\n",
              "      fill: #D2E3FC;\n",
              "    }\n",
              "\n",
              "    [theme=dark] .colab-df-convert:hover {\n",
              "      background-color: #434B5C;\n",
              "      box-shadow: 0px 1px 3px 1px rgba(0, 0, 0, 0.15);\n",
              "      filter: drop-shadow(0px 1px 2px rgba(0, 0, 0, 0.3));\n",
              "      fill: #FFFFFF;\n",
              "    }\n",
              "  </style>\n",
              "\n",
              "    <script>\n",
              "      const buttonEl =\n",
              "        document.querySelector('#df-67a86a13-4a2a-42d8-9823-84311f4fe026 button.colab-df-convert');\n",
              "      buttonEl.style.display =\n",
              "        google.colab.kernel.accessAllowed ? 'block' : 'none';\n",
              "\n",
              "      async function convertToInteractive(key) {\n",
              "        const element = document.querySelector('#df-67a86a13-4a2a-42d8-9823-84311f4fe026');\n",
              "        const dataTable =\n",
              "          await google.colab.kernel.invokeFunction('convertToInteractive',\n",
              "                                                    [key], {});\n",
              "        if (!dataTable) return;\n",
              "\n",
              "        const docLinkHtml = 'Like what you see? Visit the ' +\n",
              "          '<a target=\"_blank\" href=https://colab.research.google.com/notebooks/data_table.ipynb>data table notebook</a>'\n",
              "          + ' to learn more about interactive tables.';\n",
              "        element.innerHTML = '';\n",
              "        dataTable['output_type'] = 'display_data';\n",
              "        await google.colab.output.renderOutput(dataTable, element);\n",
              "        const docLink = document.createElement('div');\n",
              "        docLink.innerHTML = docLinkHtml;\n",
              "        element.appendChild(docLink);\n",
              "      }\n",
              "    </script>\n",
              "  </div>\n",
              "\n",
              "\n",
              "<div id=\"df-ee866812-6530-4c55-9396-38ba3afb2f22\">\n",
              "  <button class=\"colab-df-quickchart\" onclick=\"quickchart('df-ee866812-6530-4c55-9396-38ba3afb2f22')\"\n",
              "            title=\"Suggest charts.\"\n",
              "            style=\"display:none;\">\n",
              "\n",
              "<svg xmlns=\"http://www.w3.org/2000/svg\" height=\"24px\"viewBox=\"0 0 24 24\"\n",
              "     width=\"24px\">\n",
              "    <g>\n",
              "        <path d=\"M19 3H5c-1.1 0-2 .9-2 2v14c0 1.1.9 2 2 2h14c1.1 0 2-.9 2-2V5c0-1.1-.9-2-2-2zM9 17H7v-7h2v7zm4 0h-2V7h2v10zm4 0h-2v-4h2v4z\"/>\n",
              "    </g>\n",
              "</svg>\n",
              "  </button>\n",
              "\n",
              "<style>\n",
              "  .colab-df-quickchart {\n",
              "      --bg-color: #E8F0FE;\n",
              "      --fill-color: #1967D2;\n",
              "      --hover-bg-color: #E2EBFA;\n",
              "      --hover-fill-color: #174EA6;\n",
              "      --disabled-fill-color: #AAA;\n",
              "      --disabled-bg-color: #DDD;\n",
              "  }\n",
              "\n",
              "  [theme=dark] .colab-df-quickchart {\n",
              "      --bg-color: #3B4455;\n",
              "      --fill-color: #D2E3FC;\n",
              "      --hover-bg-color: #434B5C;\n",
              "      --hover-fill-color: #FFFFFF;\n",
              "      --disabled-bg-color: #3B4455;\n",
              "      --disabled-fill-color: #666;\n",
              "  }\n",
              "\n",
              "  .colab-df-quickchart {\n",
              "    background-color: var(--bg-color);\n",
              "    border: none;\n",
              "    border-radius: 50%;\n",
              "    cursor: pointer;\n",
              "    display: none;\n",
              "    fill: var(--fill-color);\n",
              "    height: 32px;\n",
              "    padding: 0;\n",
              "    width: 32px;\n",
              "  }\n",
              "\n",
              "  .colab-df-quickchart:hover {\n",
              "    background-color: var(--hover-bg-color);\n",
              "    box-shadow: 0 1px 2px rgba(60, 64, 67, 0.3), 0 1px 3px 1px rgba(60, 64, 67, 0.15);\n",
              "    fill: var(--button-hover-fill-color);\n",
              "  }\n",
              "\n",
              "  .colab-df-quickchart-complete:disabled,\n",
              "  .colab-df-quickchart-complete:disabled:hover {\n",
              "    background-color: var(--disabled-bg-color);\n",
              "    fill: var(--disabled-fill-color);\n",
              "    box-shadow: none;\n",
              "  }\n",
              "\n",
              "  .colab-df-spinner {\n",
              "    border: 2px solid var(--fill-color);\n",
              "    border-color: transparent;\n",
              "    border-bottom-color: var(--fill-color);\n",
              "    animation:\n",
              "      spin 1s steps(1) infinite;\n",
              "  }\n",
              "\n",
              "  @keyframes spin {\n",
              "    0% {\n",
              "      border-color: transparent;\n",
              "      border-bottom-color: var(--fill-color);\n",
              "      border-left-color: var(--fill-color);\n",
              "    }\n",
              "    20% {\n",
              "      border-color: transparent;\n",
              "      border-left-color: var(--fill-color);\n",
              "      border-top-color: var(--fill-color);\n",
              "    }\n",
              "    30% {\n",
              "      border-color: transparent;\n",
              "      border-left-color: var(--fill-color);\n",
              "      border-top-color: var(--fill-color);\n",
              "      border-right-color: var(--fill-color);\n",
              "    }\n",
              "    40% {\n",
              "      border-color: transparent;\n",
              "      border-right-color: var(--fill-color);\n",
              "      border-top-color: var(--fill-color);\n",
              "    }\n",
              "    60% {\n",
              "      border-color: transparent;\n",
              "      border-right-color: var(--fill-color);\n",
              "    }\n",
              "    80% {\n",
              "      border-color: transparent;\n",
              "      border-right-color: var(--fill-color);\n",
              "      border-bottom-color: var(--fill-color);\n",
              "    }\n",
              "    90% {\n",
              "      border-color: transparent;\n",
              "      border-bottom-color: var(--fill-color);\n",
              "    }\n",
              "  }\n",
              "</style>\n",
              "\n",
              "  <script>\n",
              "    async function quickchart(key) {\n",
              "      const quickchartButtonEl =\n",
              "        document.querySelector('#' + key + ' button');\n",
              "      quickchartButtonEl.disabled = true;  // To prevent multiple clicks.\n",
              "      quickchartButtonEl.classList.add('colab-df-spinner');\n",
              "      try {\n",
              "        const charts = await google.colab.kernel.invokeFunction(\n",
              "            'suggestCharts', [key], {});\n",
              "      } catch (error) {\n",
              "        console.error('Error during call to suggestCharts:', error);\n",
              "      }\n",
              "      quickchartButtonEl.classList.remove('colab-df-spinner');\n",
              "      quickchartButtonEl.classList.add('colab-df-quickchart-complete');\n",
              "    }\n",
              "    (() => {\n",
              "      let quickchartButtonEl =\n",
              "        document.querySelector('#df-ee866812-6530-4c55-9396-38ba3afb2f22 button');\n",
              "      quickchartButtonEl.style.display =\n",
              "        google.colab.kernel.accessAllowed ? 'block' : 'none';\n",
              "    })();\n",
              "  </script>\n",
              "</div>\n",
              "    </div>\n",
              "  </div>\n"
            ]
          },
          "metadata": {}
        },
        {
          "output_type": "display_data",
          "data": {
            "text/plain": [
              "M    92\n",
              "F    10\n",
              "Name: SEX, dtype: int64"
            ]
          },
          "metadata": {}
        }
      ]
    },
    {
      "cell_type": "markdown",
      "source": [
        "now it is *clean*\n",
        "\n",
        "# **Upsampling**"
      ],
      "metadata": {
        "id": "d6l5SbArJVZJ"
      }
    },
    {
      "cell_type": "code",
      "source": [
        "# Upsampling (Get rid of imbalance in column 'Class' [DIE < LIVE])\n",
        "die  = df[df['Class']=='DIE']\n",
        "live = df[df['Class']=='LIVE']\n",
        "\n",
        "die2 = resample(die, replace = True, n_samples = len(live))\n",
        "\n",
        "df = pd.concat([die2, live])\n",
        "df['Class'].value_counts()"
      ],
      "metadata": {
        "colab": {
          "base_uri": "https://localhost:8080/"
        },
        "id": "JlfSJzmGJY4a",
        "outputId": "e2ba71e1-7c64-4bcf-fe09-f98e15556674"
      },
      "execution_count": 67,
      "outputs": [
        {
          "output_type": "execute_result",
          "data": {
            "text/plain": [
              "DIE     81\n",
              "LIVE    81\n",
              "Name: Class, dtype: int64"
            ]
          },
          "metadata": {},
          "execution_count": 67
        }
      ]
    },
    {
      "cell_type": "markdown",
      "source": [
        "# **X/y Split**"
      ],
      "metadata": {
        "id": "LpXM8-6ALvK6"
      }
    },
    {
      "cell_type": "code",
      "source": [
        "# Do the X/y split to seperate dependent from independent columns\n",
        "X = df.drop('Class', axis=1)\n",
        "y = df['Class']"
      ],
      "metadata": {
        "id": "hBRifIlDLyQI"
      },
      "execution_count": 68,
      "outputs": []
    },
    {
      "cell_type": "markdown",
      "source": [
        "# **Encode categoricals**"
      ],
      "metadata": {
        "id": "ZlZNnrMlNywV"
      }
    },
    {
      "cell_type": "code",
      "source": [
        "# Encode categorical columns to numerical (There's only one!)\n",
        "X = pd.get_dummies(X, drop_first=True)"
      ],
      "metadata": {
        "id": "B3Zv6ou5N1PC"
      },
      "execution_count": 69,
      "outputs": []
    },
    {
      "cell_type": "markdown",
      "source": [
        "# **Train/Test split**"
      ],
      "metadata": {
        "id": "Ui0zPmF5OHOC"
      }
    },
    {
      "cell_type": "code",
      "source": [
        "X_train, X_test, y_train, y_test = train_test_split(X, y, test_size=0.2, random_state=42)"
      ],
      "metadata": {
        "id": "UybcBEDvOJWd"
      },
      "execution_count": 70,
      "outputs": []
    },
    {
      "cell_type": "markdown",
      "source": [
        "# **Apply StandardScaler**"
      ],
      "metadata": {
        "id": "tDRIiTRXQda5"
      }
    },
    {
      "cell_type": "code",
      "source": [
        "from sklearn.preprocessing import StandardScaler\n",
        "\n",
        "scaler = StandardScaler()\n",
        "scaler.fit(X_train)\n",
        "\n",
        "X_train_scaled = pd.DataFrame(scaler.transform(X_train), columns=X.columns)\n",
        "X_test_scaled  = pd.DataFrame(scaler.transform(X_test), columns=X.columns)\n",
        "\n",
        "with open('standard_scaler.pickle', 'wb') as file:\n",
        "    pickle.dump(scaler, file)"
      ],
      "metadata": {
        "id": "gHI-2VvLQiGz"
      },
      "execution_count": 71,
      "outputs": []
    },
    {
      "cell_type": "markdown",
      "source": [
        "**Perform a GridSearch for RandomForestClassifier**"
      ],
      "metadata": {
        "id": "0utk3_BLQw0c"
      }
    },
    {
      "cell_type": "code",
      "source": [
        "params = {\n",
        "    'criterion': ['gini', 'entropy', 'log_loss'],\n",
        "    'min_samples_leaf': [2,4],\n",
        "    'min_samples_split': [2,4]\n",
        "}"
      ],
      "metadata": {
        "id": "3Ypod3NoQyNc"
      },
      "execution_count": 72,
      "outputs": []
    },
    {
      "cell_type": "code",
      "source": [
        "gs = GridSearchCV(estimator=RandomForestClassifier(),\n",
        "                  param_grid=params, cv=5)\n",
        "gs.fit(X_train_scaled, y_train)"
      ],
      "metadata": {
        "colab": {
          "base_uri": "https://localhost:8080/",
          "height": 117
        },
        "id": "9U1yQjeTQ1wc",
        "outputId": "7f774603-0c1c-4dff-f06d-43210a50a433"
      },
      "execution_count": 73,
      "outputs": [
        {
          "output_type": "execute_result",
          "data": {
            "text/plain": [
              "GridSearchCV(cv=5, estimator=RandomForestClassifier(),\n",
              "             param_grid={'criterion': ['gini', 'entropy', 'log_loss'],\n",
              "                         'min_samples_leaf': [2, 4],\n",
              "                         'min_samples_split': [2, 4]})"
            ],
            "text/html": [
              "<style>#sk-container-id-7 {color: black;background-color: white;}#sk-container-id-7 pre{padding: 0;}#sk-container-id-7 div.sk-toggleable {background-color: white;}#sk-container-id-7 label.sk-toggleable__label {cursor: pointer;display: block;width: 100%;margin-bottom: 0;padding: 0.3em;box-sizing: border-box;text-align: center;}#sk-container-id-7 label.sk-toggleable__label-arrow:before {content: \"▸\";float: left;margin-right: 0.25em;color: #696969;}#sk-container-id-7 label.sk-toggleable__label-arrow:hover:before {color: black;}#sk-container-id-7 div.sk-estimator:hover label.sk-toggleable__label-arrow:before {color: black;}#sk-container-id-7 div.sk-toggleable__content {max-height: 0;max-width: 0;overflow: hidden;text-align: left;background-color: #f0f8ff;}#sk-container-id-7 div.sk-toggleable__content pre {margin: 0.2em;color: black;border-radius: 0.25em;background-color: #f0f8ff;}#sk-container-id-7 input.sk-toggleable__control:checked~div.sk-toggleable__content {max-height: 200px;max-width: 100%;overflow: auto;}#sk-container-id-7 input.sk-toggleable__control:checked~label.sk-toggleable__label-arrow:before {content: \"▾\";}#sk-container-id-7 div.sk-estimator input.sk-toggleable__control:checked~label.sk-toggleable__label {background-color: #d4ebff;}#sk-container-id-7 div.sk-label input.sk-toggleable__control:checked~label.sk-toggleable__label {background-color: #d4ebff;}#sk-container-id-7 input.sk-hidden--visually {border: 0;clip: rect(1px 1px 1px 1px);clip: rect(1px, 1px, 1px, 1px);height: 1px;margin: -1px;overflow: hidden;padding: 0;position: absolute;width: 1px;}#sk-container-id-7 div.sk-estimator {font-family: monospace;background-color: #f0f8ff;border: 1px dotted black;border-radius: 0.25em;box-sizing: border-box;margin-bottom: 0.5em;}#sk-container-id-7 div.sk-estimator:hover {background-color: #d4ebff;}#sk-container-id-7 div.sk-parallel-item::after {content: \"\";width: 100%;border-bottom: 1px solid gray;flex-grow: 1;}#sk-container-id-7 div.sk-label:hover label.sk-toggleable__label {background-color: #d4ebff;}#sk-container-id-7 div.sk-serial::before {content: \"\";position: absolute;border-left: 1px solid gray;box-sizing: border-box;top: 0;bottom: 0;left: 50%;z-index: 0;}#sk-container-id-7 div.sk-serial {display: flex;flex-direction: column;align-items: center;background-color: white;padding-right: 0.2em;padding-left: 0.2em;position: relative;}#sk-container-id-7 div.sk-item {position: relative;z-index: 1;}#sk-container-id-7 div.sk-parallel {display: flex;align-items: stretch;justify-content: center;background-color: white;position: relative;}#sk-container-id-7 div.sk-item::before, #sk-container-id-7 div.sk-parallel-item::before {content: \"\";position: absolute;border-left: 1px solid gray;box-sizing: border-box;top: 0;bottom: 0;left: 50%;z-index: -1;}#sk-container-id-7 div.sk-parallel-item {display: flex;flex-direction: column;z-index: 1;position: relative;background-color: white;}#sk-container-id-7 div.sk-parallel-item:first-child::after {align-self: flex-end;width: 50%;}#sk-container-id-7 div.sk-parallel-item:last-child::after {align-self: flex-start;width: 50%;}#sk-container-id-7 div.sk-parallel-item:only-child::after {width: 0;}#sk-container-id-7 div.sk-dashed-wrapped {border: 1px dashed gray;margin: 0 0.4em 0.5em 0.4em;box-sizing: border-box;padding-bottom: 0.4em;background-color: white;}#sk-container-id-7 div.sk-label label {font-family: monospace;font-weight: bold;display: inline-block;line-height: 1.2em;}#sk-container-id-7 div.sk-label-container {text-align: center;}#sk-container-id-7 div.sk-container {/* jupyter's `normalize.less` sets `[hidden] { display: none; }` but bootstrap.min.css set `[hidden] { display: none !important; }` so we also need the `!important` here to be able to override the default hidden behavior on the sphinx rendered scikit-learn.org. See: https://github.com/scikit-learn/scikit-learn/issues/21755 */display: inline-block !important;position: relative;}#sk-container-id-7 div.sk-text-repr-fallback {display: none;}</style><div id=\"sk-container-id-7\" class=\"sk-top-container\"><div class=\"sk-text-repr-fallback\"><pre>GridSearchCV(cv=5, estimator=RandomForestClassifier(),\n",
              "             param_grid={&#x27;criterion&#x27;: [&#x27;gini&#x27;, &#x27;entropy&#x27;, &#x27;log_loss&#x27;],\n",
              "                         &#x27;min_samples_leaf&#x27;: [2, 4],\n",
              "                         &#x27;min_samples_split&#x27;: [2, 4]})</pre><b>In a Jupyter environment, please rerun this cell to show the HTML representation or trust the notebook. <br />On GitHub, the HTML representation is unable to render, please try loading this page with nbviewer.org.</b></div><div class=\"sk-container\" hidden><div class=\"sk-item sk-dashed-wrapped\"><div class=\"sk-label-container\"><div class=\"sk-label sk-toggleable\"><input class=\"sk-toggleable__control sk-hidden--visually\" id=\"sk-estimator-id-19\" type=\"checkbox\" ><label for=\"sk-estimator-id-19\" class=\"sk-toggleable__label sk-toggleable__label-arrow\">GridSearchCV</label><div class=\"sk-toggleable__content\"><pre>GridSearchCV(cv=5, estimator=RandomForestClassifier(),\n",
              "             param_grid={&#x27;criterion&#x27;: [&#x27;gini&#x27;, &#x27;entropy&#x27;, &#x27;log_loss&#x27;],\n",
              "                         &#x27;min_samples_leaf&#x27;: [2, 4],\n",
              "                         &#x27;min_samples_split&#x27;: [2, 4]})</pre></div></div></div><div class=\"sk-parallel\"><div class=\"sk-parallel-item\"><div class=\"sk-item\"><div class=\"sk-label-container\"><div class=\"sk-label sk-toggleable\"><input class=\"sk-toggleable__control sk-hidden--visually\" id=\"sk-estimator-id-20\" type=\"checkbox\" ><label for=\"sk-estimator-id-20\" class=\"sk-toggleable__label sk-toggleable__label-arrow\">estimator: RandomForestClassifier</label><div class=\"sk-toggleable__content\"><pre>RandomForestClassifier()</pre></div></div></div><div class=\"sk-serial\"><div class=\"sk-item\"><div class=\"sk-estimator sk-toggleable\"><input class=\"sk-toggleable__control sk-hidden--visually\" id=\"sk-estimator-id-21\" type=\"checkbox\" ><label for=\"sk-estimator-id-21\" class=\"sk-toggleable__label sk-toggleable__label-arrow\">RandomForestClassifier</label><div class=\"sk-toggleable__content\"><pre>RandomForestClassifier()</pre></div></div></div></div></div></div></div></div></div></div>"
            ]
          },
          "metadata": {},
          "execution_count": 73
        }
      ]
    },
    {
      "cell_type": "code",
      "source": [
        "gs.best_params_"
      ],
      "metadata": {
        "colab": {
          "base_uri": "https://localhost:8080/"
        },
        "id": "rg2cBXMHTImk",
        "outputId": "02ee2312-b59e-46bb-faad-71d2f56238ed"
      },
      "execution_count": 74,
      "outputs": [
        {
          "output_type": "execute_result",
          "data": {
            "text/plain": [
              "{'criterion': 'log_loss', 'min_samples_leaf': 2, 'min_samples_split': 2}"
            ]
          },
          "metadata": {},
          "execution_count": 74
        }
      ]
    },
    {
      "cell_type": "code",
      "source": [
        "y_train_pred = gs.predict(X_train_scaled)\n",
        "y_test_pred  = gs.predict(X_test_scaled)\n",
        "cohen_kappa_score(y_test, y_test_pred)"
      ],
      "metadata": {
        "colab": {
          "base_uri": "https://localhost:8080/"
        },
        "id": "elm_Y_1IUmbT",
        "outputId": "b21499ec-ac67-4683-af41-24fd2e4fda2c"
      },
      "execution_count": 75,
      "outputs": [
        {
          "output_type": "execute_result",
          "data": {
            "text/plain": [
              "0.8170055452865065"
            ]
          },
          "metadata": {},
          "execution_count": 75
        }
      ]
    },
    {
      "cell_type": "code",
      "source": [
        "with open('random_forest.pickle', 'wb') as file:\n",
        "    pickle.dump(gs.best_estimator_, file)\n"
      ],
      "metadata": {
        "id": "NOlymtzpbsLT"
      },
      "execution_count": 76,
      "outputs": []
    },
    {
      "cell_type": "code",
      "source": [
        "# Plot confusion matrix for train set prediction\n",
        "cm_train = confusion_matrix(y_train, y_train_pred)\n",
        "ConfusionMatrixDisplay(cm_train, display_labels=gs.best_estimator_.classes_).plot()\n",
        "plt.show()\n",
        "\n",
        "# Plot confusion matrix for test set prediction\n",
        "cm_test = confusion_matrix(y_test, y_test_pred)\n",
        "ConfusionMatrixDisplay(cm_test, display_labels=gs.best_estimator_.classes_).plot()\n",
        "plt.show()"
      ],
      "metadata": {
        "colab": {
          "base_uri": "https://localhost:8080/",
          "height": 881
        },
        "id": "0Q4AQOmcb1g7",
        "outputId": "c011c2d0-c485-4cff-9ba6-c5d236a728e2"
      },
      "execution_count": 77,
      "outputs": [
        {
          "output_type": "display_data",
          "data": {
            "text/plain": [
              "<Figure size 640x480 with 2 Axes>"
            ],
            "image/png": "[encoded data removed]"
          },
          "metadata": {}
        },
        {
          "output_type": "display_data",
          "data": {
            "text/plain": [
              "<Figure size 640x480 with 2 Axes>"
            ],
            "image/png": "[encoded data removed]"
          },
          "metadata": {}
        }
      ]
    },
    {
      "cell_type": "code",
      "source": [
        "results = cross_val_score(gs.best_estimator_, X_train_scaled, y_train, cv=5)\n",
        "print(f\"Average accuracy: {results.mean()}\")\n",
        "results = cross_val_score(gs.best_estimator_, X_test_scaled, y_test, cv=5)\n",
        "print(f\"Average accuracy: {results.mean()}\")"
      ],
      "metadata": {
        "colab": {
          "base_uri": "https://localhost:8080/"
        },
        "id": "IscTFFOQb6wA",
        "outputId": "ded695fb-0259-4b63-c698-5bb2e9b9b54f"
      },
      "execution_count": 78,
      "outputs": [
        {
          "output_type": "stream",
          "name": "stdout",
          "text": [
            "Average accuracy: 0.9384615384615385\n",
            "Average accuracy: 0.7857142857142857\n"
          ]
        }
      ]
    },
    {
      "cell_type": "markdown",
      "source": [
        "# **Perform a GridSearch for LogisticRegression**"
      ],
      "metadata": {
        "id": "lsqt5pL5cJVh"
      }
    },
    {
      "cell_type": "code",
      "source": [
        "params = {\n",
        "    'penalty': ['l1', 'l2', 'elasticnet', 'none'],\n",
        "    'solver': ['saga'],  # 'saga' supports 'l1' penalty\n",
        "    'max_iter': [300]\n",
        "}\n",
        "\n",
        "\n",
        "gs = GridSearchCV(estimator=LogisticRegression(), param_grid=params, cv=5)\n",
        "gs.fit(X_train_scaled, y_train)"
      ],
      "metadata": {
        "colab": {
          "base_uri": "https://localhost:8080/",
          "height": 1000
        },
        "id": "7obz3AzUcGFz",
        "outputId": "5f0ff9e7-b066-40a7-c290-de920ab133f4"
      },
      "execution_count": 79,
      "outputs": [
        {
          "output_type": "stream",
          "name": "stderr",
          "text": [
            "/usr/local/lib/python3.10/dist-packages/sklearn/linear_model/_logistic.py:1173: FutureWarning: `penalty='none'`has been deprecated in 1.2 and will be removed in 1.4. To keep the past behaviour, set `penalty=None`.\n",
            "  warnings.warn(\n",
            "/usr/local/lib/python3.10/dist-packages/sklearn/linear_model/_sag.py:350: ConvergenceWarning: The max_iter was reached which means the coef_ did not converge\n",
            "  warnings.warn(\n",
            "/usr/local/lib/python3.10/dist-packages/sklearn/linear_model/_logistic.py:1173: FutureWarning: `penalty='none'`has been deprecated in 1.2 and will be removed in 1.4. To keep the past behaviour, set `penalty=None`.\n",
            "  warnings.warn(\n",
            "/usr/local/lib/python3.10/dist-packages/sklearn/linear_model/_sag.py:350: ConvergenceWarning: The max_iter was reached which means the coef_ did not converge\n",
            "  warnings.warn(\n",
            "/usr/local/lib/python3.10/dist-packages/sklearn/linear_model/_logistic.py:1173: FutureWarning: `penalty='none'`has been deprecated in 1.2 and will be removed in 1.4. To keep the past behaviour, set `penalty=None`.\n",
            "  warnings.warn(\n",
            "/usr/local/lib/python3.10/dist-packages/sklearn/linear_model/_sag.py:350: ConvergenceWarning: The max_iter was reached which means the coef_ did not converge\n",
            "  warnings.warn(\n",
            "/usr/local/lib/python3.10/dist-packages/sklearn/linear_model/_logistic.py:1173: FutureWarning: `penalty='none'`has been deprecated in 1.2 and will be removed in 1.4. To keep the past behaviour, set `penalty=None`.\n",
            "  warnings.warn(\n",
            "/usr/local/lib/python3.10/dist-packages/sklearn/linear_model/_sag.py:350: ConvergenceWarning: The max_iter was reached which means the coef_ did not converge\n",
            "  warnings.warn(\n",
            "/usr/local/lib/python3.10/dist-packages/sklearn/linear_model/_logistic.py:1173: FutureWarning: `penalty='none'`has been deprecated in 1.2 and will be removed in 1.4. To keep the past behaviour, set `penalty=None`.\n",
            "  warnings.warn(\n",
            "/usr/local/lib/python3.10/dist-packages/sklearn/linear_model/_sag.py:350: ConvergenceWarning: The max_iter was reached which means the coef_ did not converge\n",
            "  warnings.warn(\n",
            "/usr/local/lib/python3.10/dist-packages/sklearn/model_selection/_validation.py:378: FitFailedWarning: \n",
            "5 fits failed out of a total of 20.\n",
            "The score on these train-test partitions for these parameters will be set to nan.\n",
            "If these failures are not expected, you can try to debug them by setting error_score='raise'.\n",
            "\n",
            "Below are more details about the failures:\n",
            "--------------------------------------------------------------------------------\n",
            "5 fits failed with the following error:\n",
            "Traceback (most recent call last):\n",
            "  File \"/usr/local/lib/python3.10/dist-packages/sklearn/model_selection/_validation.py\", line 686, in _fit_and_score\n",
            "    estimator.fit(X_train, y_train, **fit_params)\n",
            "  File \"/usr/local/lib/python3.10/dist-packages/sklearn/linear_model/_logistic.py\", line 1291, in fit\n",
            "    fold_coefs_ = Parallel(n_jobs=self.n_jobs, verbose=self.verbose, prefer=prefer)(\n",
            "  File \"/usr/local/lib/python3.10/dist-packages/sklearn/utils/parallel.py\", line 63, in __call__\n",
            "    return super().__call__(iterable_with_config)\n",
            "  File \"/usr/local/lib/python3.10/dist-packages/joblib/parallel.py\", line 1863, in __call__\n",
            "    return output if self.return_generator else list(output)\n",
            "  File \"/usr/local/lib/python3.10/dist-packages/joblib/parallel.py\", line 1792, in _get_sequential_output\n",
            "    res = func(*args, **kwargs)\n",
            "  File \"/usr/local/lib/python3.10/dist-packages/sklearn/utils/parallel.py\", line 123, in __call__\n",
            "    return self.function(*args, **kwargs)\n",
            "  File \"/usr/local/lib/python3.10/dist-packages/sklearn/linear_model/_logistic.py\", line 521, in _logistic_regression_path\n",
            "    alpha = (1.0 / C) * (1 - l1_ratio)\n",
            "TypeError: unsupported operand type(s) for -: 'int' and 'NoneType'\n",
            "\n",
            "  warnings.warn(some_fits_failed_message, FitFailedWarning)\n",
            "/usr/local/lib/python3.10/dist-packages/sklearn/model_selection/_search.py:952: UserWarning: One or more of the test scores are non-finite: [0.89969231 0.86861538        nan 0.93015385]\n",
            "  warnings.warn(\n",
            "/usr/local/lib/python3.10/dist-packages/sklearn/linear_model/_logistic.py:1173: FutureWarning: `penalty='none'`has been deprecated in 1.2 and will be removed in 1.4. To keep the past behaviour, set `penalty=None`.\n",
            "  warnings.warn(\n",
            "/usr/local/lib/python3.10/dist-packages/sklearn/linear_model/_sag.py:350: ConvergenceWarning: The max_iter was reached which means the coef_ did not converge\n",
            "  warnings.warn(\n"
          ]
        },
        {
          "output_type": "execute_result",
          "data": {
            "text/plain": [
              "GridSearchCV(cv=5, estimator=LogisticRegression(),\n",
              "             param_grid={'max_iter': [300],\n",
              "                         'penalty': ['l1', 'l2', 'elasticnet', 'none'],\n",
              "                         'solver': ['saga']})"
            ],
            "text/html": [
              "<style>#sk-container-id-8 {color: black;background-color: white;}#sk-container-id-8 pre{padding: 0;}#sk-container-id-8 div.sk-toggleable {background-color: white;}#sk-container-id-8 label.sk-toggleable__label {cursor: pointer;display: block;width: 100%;margin-bottom: 0;padding: 0.3em;box-sizing: border-box;text-align: center;}#sk-container-id-8 label.sk-toggleable__label-arrow:before {content: \"▸\";float: left;margin-right: 0.25em;color: #696969;}#sk-container-id-8 label.sk-toggleable__label-arrow:hover:before {color: black;}#sk-container-id-8 div.sk-estimator:hover label.sk-toggleable__label-arrow:before {color: black;}#sk-container-id-8 div.sk-toggleable__content {max-height: 0;max-width: 0;overflow: hidden;text-align: left;background-color: #f0f8ff;}#sk-container-id-8 div.sk-toggleable__content pre {margin: 0.2em;color: black;border-radius: 0.25em;background-color: #f0f8ff;}#sk-container-id-8 input.sk-toggleable__control:checked~div.sk-toggleable__content {max-height: 200px;max-width: 100%;overflow: auto;}#sk-container-id-8 input.sk-toggleable__control:checked~label.sk-toggleable__label-arrow:before {content: \"▾\";}#sk-container-id-8 div.sk-estimator input.sk-toggleable__control:checked~label.sk-toggleable__label {background-color: #d4ebff;}#sk-container-id-8 div.sk-label input.sk-toggleable__control:checked~label.sk-toggleable__label {background-color: #d4ebff;}#sk-container-id-8 input.sk-hidden--visually {border: 0;clip: rect(1px 1px 1px 1px);clip: rect(1px, 1px, 1px, 1px);height: 1px;margin: -1px;overflow: hidden;padding: 0;position: absolute;width: 1px;}#sk-container-id-8 div.sk-estimator {font-family: monospace;background-color: #f0f8ff;border: 1px dotted black;border-radius: 0.25em;box-sizing: border-box;margin-bottom: 0.5em;}#sk-container-id-8 div.sk-estimator:hover {background-color: #d4ebff;}#sk-container-id-8 div.sk-parallel-item::after {content: \"\";width: 100%;border-bottom: 1px solid gray;flex-grow: 1;}#sk-container-id-8 div.sk-label:hover label.sk-toggleable__label {background-color: #d4ebff;}#sk-container-id-8 div.sk-serial::before {content: \"\";position: absolute;border-left: 1px solid gray;box-sizing: border-box;top: 0;bottom: 0;left: 50%;z-index: 0;}#sk-container-id-8 div.sk-serial {display: flex;flex-direction: column;align-items: center;background-color: white;padding-right: 0.2em;padding-left: 0.2em;position: relative;}#sk-container-id-8 div.sk-item {position: relative;z-index: 1;}#sk-container-id-8 div.sk-parallel {display: flex;align-items: stretch;justify-content: center;background-color: white;position: relative;}#sk-container-id-8 div.sk-item::before, #sk-container-id-8 div.sk-parallel-item::before {content: \"\";position: absolute;border-left: 1px solid gray;box-sizing: border-box;top: 0;bottom: 0;left: 50%;z-index: -1;}#sk-container-id-8 div.sk-parallel-item {display: flex;flex-direction: column;z-index: 1;position: relative;background-color: white;}#sk-container-id-8 div.sk-parallel-item:first-child::after {align-self: flex-end;width: 50%;}#sk-container-id-8 div.sk-parallel-item:last-child::after {align-self: flex-start;width: 50%;}#sk-container-id-8 div.sk-parallel-item:only-child::after {width: 0;}#sk-container-id-8 div.sk-dashed-wrapped {border: 1px dashed gray;margin: 0 0.4em 0.5em 0.4em;box-sizing: border-box;padding-bottom: 0.4em;background-color: white;}#sk-container-id-8 div.sk-label label {font-family: monospace;font-weight: bold;display: inline-block;line-height: 1.2em;}#sk-container-id-8 div.sk-label-container {text-align: center;}#sk-container-id-8 div.sk-container {/* jupyter's `normalize.less` sets `[hidden] { display: none; }` but bootstrap.min.css set `[hidden] { display: none !important; }` so we also need the `!important` here to be able to override the default hidden behavior on the sphinx rendered scikit-learn.org. See: https://github.com/scikit-learn/scikit-learn/issues/21755 */display: inline-block !important;position: relative;}#sk-container-id-8 div.sk-text-repr-fallback {display: none;}</style><div id=\"sk-container-id-8\" class=\"sk-top-container\"><div class=\"sk-text-repr-fallback\"><pre>GridSearchCV(cv=5, estimator=LogisticRegression(),\n",
              "             param_grid={&#x27;max_iter&#x27;: [300],\n",
              "                         &#x27;penalty&#x27;: [&#x27;l1&#x27;, &#x27;l2&#x27;, &#x27;elasticnet&#x27;, &#x27;none&#x27;],\n",
              "                         &#x27;solver&#x27;: [&#x27;saga&#x27;]})</pre><b>In a Jupyter environment, please rerun this cell to show the HTML representation or trust the notebook. <br />On GitHub, the HTML representation is unable to render, please try loading this page with nbviewer.org.</b></div><div class=\"sk-container\" hidden><div class=\"sk-item sk-dashed-wrapped\"><div class=\"sk-label-container\"><div class=\"sk-label sk-toggleable\"><input class=\"sk-toggleable__control sk-hidden--visually\" id=\"sk-estimator-id-22\" type=\"checkbox\" ><label for=\"sk-estimator-id-22\" class=\"sk-toggleable__label sk-toggleable__label-arrow\">GridSearchCV</label><div class=\"sk-toggleable__content\"><pre>GridSearchCV(cv=5, estimator=LogisticRegression(),\n",
              "             param_grid={&#x27;max_iter&#x27;: [300],\n",
              "                         &#x27;penalty&#x27;: [&#x27;l1&#x27;, &#x27;l2&#x27;, &#x27;elasticnet&#x27;, &#x27;none&#x27;],\n",
              "                         &#x27;solver&#x27;: [&#x27;saga&#x27;]})</pre></div></div></div><div class=\"sk-parallel\"><div class=\"sk-parallel-item\"><div class=\"sk-item\"><div class=\"sk-label-container\"><div class=\"sk-label sk-toggleable\"><input class=\"sk-toggleable__control sk-hidden--visually\" id=\"sk-estimator-id-23\" type=\"checkbox\" ><label for=\"sk-estimator-id-23\" class=\"sk-toggleable__label sk-toggleable__label-arrow\">estimator: LogisticRegression</label><div class=\"sk-toggleable__content\"><pre>LogisticRegression()</pre></div></div></div><div class=\"sk-serial\"><div class=\"sk-item\"><div class=\"sk-estimator sk-toggleable\"><input class=\"sk-toggleable__control sk-hidden--visually\" id=\"sk-estimator-id-24\" type=\"checkbox\" ><label for=\"sk-estimator-id-24\" class=\"sk-toggleable__label sk-toggleable__label-arrow\">LogisticRegression</label><div class=\"sk-toggleable__content\"><pre>LogisticRegression()</pre></div></div></div></div></div></div></div></div></div></div>"
            ]
          },
          "metadata": {},
          "execution_count": 79
        }
      ]
    },
    {
      "cell_type": "markdown",
      "source": [
        "# **Perform a GridSearch for KNN-Classifier**"
      ],
      "metadata": {
        "id": "mbCCyABaeDrq"
      }
    },
    {
      "cell_type": "code",
      "source": [
        "params = {\n",
        "    'n_neighbors': [3, 5, 8, 10],\n",
        "    'weights': ['uniform', 'distance'],\n",
        "    'algorithm': ['auto', 'ball_tree', 'kd_tree', 'brute']\n",
        "}\n",
        "\n",
        "gs = GridSearchCV(estimator=KNeighborsClassifier(), param_grid=params, cv=5, verbose=3)\n",
        "gs.fit(X_train_scaled, y_train)"
      ],
      "metadata": {
        "colab": {
          "base_uri": "https://localhost:8080/",
          "height": 1000
        },
        "id": "y5vWeSBUd846",
        "outputId": "10275899-9815-4c19-b052-8f54c86c81a8"
      },
      "execution_count": 80,
      "outputs": [
        {
          "output_type": "stream",
          "name": "stdout",
          "text": [
            "Fitting 5 folds for each of 32 candidates, totalling 160 fits\n",
            "[CV 1/5] END algorithm=auto, n_neighbors=3, weights=uniform;, score=1.000 total time=   0.0s\n",
            "[CV 2/5] END algorithm=auto, n_neighbors=3, weights=uniform;, score=0.923 total time=   0.0s\n",
            "[CV 3/5] END algorithm=auto, n_neighbors=3, weights=uniform;, score=1.000 total time=   0.0s\n",
            "[CV 4/5] END algorithm=auto, n_neighbors=3, weights=uniform;, score=0.885 total time=   0.0s\n",
            "[CV 5/5] END algorithm=auto, n_neighbors=3, weights=uniform;, score=0.960 total time=   0.0s\n",
            "[CV 1/5] END algorithm=auto, n_neighbors=3, weights=distance;, score=1.000 total time=   0.0s\n",
            "[CV 2/5] END algorithm=auto, n_neighbors=3, weights=distance;, score=0.923 total time=   0.0s\n",
            "[CV 3/5] END algorithm=auto, n_neighbors=3, weights=distance;, score=1.000 total time=   0.0s\n",
            "[CV 4/5] END algorithm=auto, n_neighbors=3, weights=distance;, score=0.885 total time=   0.0s\n",
            "[CV 5/5] END algorithm=auto, n_neighbors=3, weights=distance;, score=0.960 total time=   0.0s\n",
            "[CV 1/5] END algorithm=auto, n_neighbors=5, weights=uniform;, score=0.962 total time=   0.0s\n",
            "[CV 2/5] END algorithm=auto, n_neighbors=5, weights=uniform;, score=0.923 total time=   0.0s\n",
            "[CV 3/5] END algorithm=auto, n_neighbors=5, weights=uniform;, score=0.923 total time=   0.0s\n",
            "[CV 4/5] END algorithm=auto, n_neighbors=5, weights=uniform;, score=0.808 total time=   0.0s\n",
            "[CV 5/5] END algorithm=auto, n_neighbors=5, weights=uniform;, score=1.000 total time=   0.0s\n",
            "[CV 1/5] END algorithm=auto, n_neighbors=5, weights=distance;, score=0.962 total time=   0.0s\n",
            "[CV 2/5] END algorithm=auto, n_neighbors=5, weights=distance;, score=0.923 total time=   0.0s\n",
            "[CV 3/5] END algorithm=auto, n_neighbors=5, weights=distance;, score=1.000 total time=   0.0s\n",
            "[CV 4/5] END algorithm=auto, n_neighbors=5, weights=distance;, score=0.808 total time=   0.0s\n",
            "[CV 5/5] END algorithm=auto, n_neighbors=5, weights=distance;, score=1.000 total time=   0.0s\n",
            "[CV 1/5] END algorithm=auto, n_neighbors=8, weights=uniform;, score=0.846 total time=   0.0s\n",
            "[CV 2/5] END algorithm=auto, n_neighbors=8, weights=uniform;, score=0.923 total time=   0.0s\n",
            "[CV 3/5] END algorithm=auto, n_neighbors=8, weights=uniform;, score=0.846 total time=   0.0s\n",
            "[CV 4/5] END algorithm=auto, n_neighbors=8, weights=uniform;, score=0.808 total time=   0.0s\n",
            "[CV 5/5] END algorithm=auto, n_neighbors=8, weights=uniform;, score=0.920 total time=   0.0s\n",
            "[CV 1/5] END algorithm=auto, n_neighbors=8, weights=distance;, score=0.962 total time=   0.0s\n",
            "[CV 2/5] END algorithm=auto, n_neighbors=8, weights=distance;, score=0.923 total time=   0.0s\n",
            "[CV 3/5] END algorithm=auto, n_neighbors=8, weights=distance;, score=1.000 total time=   0.0s\n",
            "[CV 4/5] END algorithm=auto, n_neighbors=8, weights=distance;, score=0.846 total time=   0.0s\n",
            "[CV 5/5] END algorithm=auto, n_neighbors=8, weights=distance;, score=0.920 total time=   0.0s\n",
            "[CV 1/5] END algorithm=auto, n_neighbors=10, weights=uniform;, score=0.846 total time=   0.0s\n",
            "[CV 2/5] END algorithm=auto, n_neighbors=10, weights=uniform;, score=0.885 total time=   0.0s\n",
            "[CV 3/5] END algorithm=auto, n_neighbors=10, weights=uniform;, score=0.846 total time=   0.0s\n",
            "[CV 4/5] END algorithm=auto, n_neighbors=10, weights=uniform;, score=0.808 total time=   0.0s\n",
            "[CV 5/5] END algorithm=auto, n_neighbors=10, weights=uniform;, score=0.920 total time=   0.0s\n",
            "[CV 1/5] END algorithm=auto, n_neighbors=10, weights=distance;, score=0.962 total time=   0.0s\n",
            "[CV 2/5] END algorithm=auto, n_neighbors=10, weights=distance;, score=0.923 total time=   0.0s\n",
            "[CV 3/5] END algorithm=auto, n_neighbors=10, weights=distance;, score=1.000 total time=   0.0s\n",
            "[CV 4/5] END algorithm=auto, n_neighbors=10, weights=distance;, score=0.885 total time=   0.0s\n",
            "[CV 5/5] END algorithm=auto, n_neighbors=10, weights=distance;, score=0.920 total time=   0.0s\n",
            "[CV 1/5] END algorithm=ball_tree, n_neighbors=3, weights=uniform;, score=1.000 total time=   0.0s\n",
            "[CV 2/5] END algorithm=ball_tree, n_neighbors=3, weights=uniform;, score=0.923 total time=   0.0s\n",
            "[CV 3/5] END algorithm=ball_tree, n_neighbors=3, weights=uniform;, score=1.000 total time=   0.0s\n",
            "[CV 4/5] END algorithm=ball_tree, n_neighbors=3, weights=uniform;, score=0.885 total time=   0.0s\n",
            "[CV 5/5] END algorithm=ball_tree, n_neighbors=3, weights=uniform;, score=0.960 total time=   0.0s\n",
            "[CV 1/5] END algorithm=ball_tree, n_neighbors=3, weights=distance;, score=1.000 total time=   0.0s\n",
            "[CV 2/5] END algorithm=ball_tree, n_neighbors=3, weights=distance;, score=0.923 total time=   0.0s\n",
            "[CV 3/5] END algorithm=ball_tree, n_neighbors=3, weights=distance;, score=1.000 total time=   0.0s\n",
            "[CV 4/5] END algorithm=ball_tree, n_neighbors=3, weights=distance;, score=0.885 total time=   0.0s\n",
            "[CV 5/5] END algorithm=ball_tree, n_neighbors=3, weights=distance;, score=0.960 total time=   0.0s\n",
            "[CV 1/5] END algorithm=ball_tree, n_neighbors=5, weights=uniform;, score=0.962 total time=   0.0s\n",
            "[CV 2/5] END algorithm=ball_tree, n_neighbors=5, weights=uniform;, score=0.923 total time=   0.0s\n",
            "[CV 3/5] END algorithm=ball_tree, n_neighbors=5, weights=uniform;, score=0.923 total time=   0.0s\n",
            "[CV 4/5] END algorithm=ball_tree, n_neighbors=5, weights=uniform;, score=0.808 total time=   0.0s\n",
            "[CV 5/5] END algorithm=ball_tree, n_neighbors=5, weights=uniform;, score=1.000 total time=   0.0s\n",
            "[CV 1/5] END algorithm=ball_tree, n_neighbors=5, weights=distance;, score=0.962 total time=   0.0s\n",
            "[CV 2/5] END algorithm=ball_tree, n_neighbors=5, weights=distance;, score=0.923 total time=   0.0s\n",
            "[CV 3/5] END algorithm=ball_tree, n_neighbors=5, weights=distance;, score=1.000 total time=   0.0s\n",
            "[CV 4/5] END algorithm=ball_tree, n_neighbors=5, weights=distance;, score=0.808 total time=   0.0s\n",
            "[CV 5/5] END algorithm=ball_tree, n_neighbors=5, weights=distance;, score=1.000 total time=   0.0s\n",
            "[CV 1/5] END algorithm=ball_tree, n_neighbors=8, weights=uniform;, score=0.846 total time=   0.0s\n",
            "[CV 2/5] END algorithm=ball_tree, n_neighbors=8, weights=uniform;, score=0.923 total time=   0.0s\n",
            "[CV 3/5] END algorithm=ball_tree, n_neighbors=8, weights=uniform;, score=0.846 total time=   0.0s\n",
            "[CV 4/5] END algorithm=ball_tree, n_neighbors=8, weights=uniform;, score=0.808 total time=   0.0s\n",
            "[CV 5/5] END algorithm=ball_tree, n_neighbors=8, weights=uniform;, score=0.920 total time=   0.0s\n",
            "[CV 1/5] END algorithm=ball_tree, n_neighbors=8, weights=distance;, score=0.962 total time=   0.0s\n",
            "[CV 2/5] END algorithm=ball_tree, n_neighbors=8, weights=distance;, score=0.923 total time=   0.0s\n",
            "[CV 3/5] END algorithm=ball_tree, n_neighbors=8, weights=distance;, score=1.000 total time=   0.0s\n",
            "[CV 4/5] END algorithm=ball_tree, n_neighbors=8, weights=distance;, score=0.846 total time=   0.0s\n",
            "[CV 5/5] END algorithm=ball_tree, n_neighbors=8, weights=distance;, score=0.920 total time=   0.0s\n",
            "[CV 1/5] END algorithm=ball_tree, n_neighbors=10, weights=uniform;, score=0.846 total time=   0.0s\n",
            "[CV 2/5] END algorithm=ball_tree, n_neighbors=10, weights=uniform;, score=0.885 total time=   0.0s\n",
            "[CV 3/5] END algorithm=ball_tree, n_neighbors=10, weights=uniform;, score=0.846 total time=   0.0s\n",
            "[CV 4/5] END algorithm=ball_tree, n_neighbors=10, weights=uniform;, score=0.808 total time=   0.0s\n",
            "[CV 5/5] END algorithm=ball_tree, n_neighbors=10, weights=uniform;, score=0.920 total time=   0.0s\n",
            "[CV 1/5] END algorithm=ball_tree, n_neighbors=10, weights=distance;, score=0.962 total time=   0.0s\n",
            "[CV 2/5] END algorithm=ball_tree, n_neighbors=10, weights=distance;, score=0.923 total time=   0.0s\n",
            "[CV 3/5] END algorithm=ball_tree, n_neighbors=10, weights=distance;, score=1.000 total time=   0.0s\n",
            "[CV 4/5] END algorithm=ball_tree, n_neighbors=10, weights=distance;, score=0.885 total time=   0.0s\n",
            "[CV 5/5] END algorithm=ball_tree, n_neighbors=10, weights=distance;, score=0.920 total time=   0.0s\n",
            "[CV 1/5] END algorithm=kd_tree, n_neighbors=3, weights=uniform;, score=1.000 total time=   0.0s\n",
            "[CV 2/5] END algorithm=kd_tree, n_neighbors=3, weights=uniform;, score=0.923 total time=   0.0s\n",
            "[CV 3/5] END algorithm=kd_tree, n_neighbors=3, weights=uniform;, score=1.000 total time=   0.0s\n",
            "[CV 4/5] END algorithm=kd_tree, n_neighbors=3, weights=uniform;, score=0.885 total time=   0.0s\n",
            "[CV 5/5] END algorithm=kd_tree, n_neighbors=3, weights=uniform;, score=0.960 total time=   0.0s\n",
            "[CV 1/5] END algorithm=kd_tree, n_neighbors=3, weights=distance;, score=1.000 total time=   0.0s\n",
            "[CV 2/5] END algorithm=kd_tree, n_neighbors=3, weights=distance;, score=0.923 total time=   0.0s\n",
            "[CV 3/5] END algorithm=kd_tree, n_neighbors=3, weights=distance;, score=1.000 total time=   0.0s\n",
            "[CV 4/5] END algorithm=kd_tree, n_neighbors=3, weights=distance;, score=0.885 total time=   0.0s\n",
            "[CV 5/5] END algorithm=kd_tree, n_neighbors=3, weights=distance;, score=0.960 total time=   0.0s\n",
            "[CV 1/5] END algorithm=kd_tree, n_neighbors=5, weights=uniform;, score=0.962 total time=   0.0s\n",
            "[CV 2/5] END algorithm=kd_tree, n_neighbors=5, weights=uniform;, score=0.923 total time=   0.0s\n",
            "[CV 3/5] END algorithm=kd_tree, n_neighbors=5, weights=uniform;, score=0.923 total time=   0.0s\n",
            "[CV 4/5] END algorithm=kd_tree, n_neighbors=5, weights=uniform;, score=0.808 total time=   0.0s\n",
            "[CV 5/5] END algorithm=kd_tree, n_neighbors=5, weights=uniform;, score=1.000 total time=   0.0s\n",
            "[CV 1/5] END algorithm=kd_tree, n_neighbors=5, weights=distance;, score=0.962 total time=   0.0s\n",
            "[CV 2/5] END algorithm=kd_tree, n_neighbors=5, weights=distance;, score=0.923 total time=   0.0s\n",
            "[CV 3/5] END algorithm=kd_tree, n_neighbors=5, weights=distance;, score=1.000 total time=   0.0s\n",
            "[CV 4/5] END algorithm=kd_tree, n_neighbors=5, weights=distance;, score=0.808 total time=   0.0s\n",
            "[CV 5/5] END algorithm=kd_tree, n_neighbors=5, weights=distance;, score=1.000 total time=   0.0s\n",
            "[CV 1/5] END algorithm=kd_tree, n_neighbors=8, weights=uniform;, score=0.846 total time=   0.0s\n",
            "[CV 2/5] END algorithm=kd_tree, n_neighbors=8, weights=uniform;, score=0.923 total time=   0.0s\n",
            "[CV 3/5] END algorithm=kd_tree, n_neighbors=8, weights=uniform;, score=0.846 total time=   0.0s\n",
            "[CV 4/5] END algorithm=kd_tree, n_neighbors=8, weights=uniform;, score=0.808 total time=   0.0s\n",
            "[CV 5/5] END algorithm=kd_tree, n_neighbors=8, weights=uniform;, score=0.920 total time=   0.0s\n",
            "[CV 1/5] END algorithm=kd_tree, n_neighbors=8, weights=distance;, score=0.962 total time=   0.0s\n",
            "[CV 2/5] END algorithm=kd_tree, n_neighbors=8, weights=distance;, score=0.923 total time=   0.0s\n",
            "[CV 3/5] END algorithm=kd_tree, n_neighbors=8, weights=distance;, score=1.000 total time=   0.0s\n",
            "[CV 4/5] END algorithm=kd_tree, n_neighbors=8, weights=distance;, score=0.846 total time=   0.0s\n",
            "[CV 5/5] END algorithm=kd_tree, n_neighbors=8, weights=distance;, score=0.920 total time=   0.0s\n",
            "[CV 1/5] END algorithm=kd_tree, n_neighbors=10, weights=uniform;, score=0.846 total time=   0.0s\n",
            "[CV 2/5] END algorithm=kd_tree, n_neighbors=10, weights=uniform;, score=0.885 total time=   0.0s\n",
            "[CV 3/5] END algorithm=kd_tree, n_neighbors=10, weights=uniform;, score=0.846 total time=   0.0s\n",
            "[CV 4/5] END algorithm=kd_tree, n_neighbors=10, weights=uniform;, score=0.808 total time=   0.0s\n",
            "[CV 5/5] END algorithm=kd_tree, n_neighbors=10, weights=uniform;, score=0.920 total time=   0.0s\n",
            "[CV 1/5] END algorithm=kd_tree, n_neighbors=10, weights=distance;, score=0.962 total time=   0.0s\n",
            "[CV 2/5] END algorithm=kd_tree, n_neighbors=10, weights=distance;, score=0.923 total time=   0.0s\n",
            "[CV 3/5] END algorithm=kd_tree, n_neighbors=10, weights=distance;, score=1.000 total time=   0.0s\n",
            "[CV 4/5] END algorithm=kd_tree, n_neighbors=10, weights=distance;, score=0.885 total time=   0.0s\n",
            "[CV 5/5] END algorithm=kd_tree, n_neighbors=10, weights=distance;, score=0.920 total time=   0.0s\n",
            "[CV 1/5] END algorithm=brute, n_neighbors=3, weights=uniform;, score=1.000 total time=   0.0s\n",
            "[CV 2/5] END algorithm=brute, n_neighbors=3, weights=uniform;, score=0.923 total time=   0.0s\n",
            "[CV 3/5] END algorithm=brute, n_neighbors=3, weights=uniform;, score=1.000 total time=   0.0s\n",
            "[CV 4/5] END algorithm=brute, n_neighbors=3, weights=uniform;, score=0.885 total time=   0.1s\n",
            "[CV 5/5] END algorithm=brute, n_neighbors=3, weights=uniform;, score=0.960 total time=   0.1s\n",
            "[CV 1/5] END algorithm=brute, n_neighbors=3, weights=distance;, score=1.000 total time=   0.1s\n",
            "[CV 2/5] END algorithm=brute, n_neighbors=3, weights=distance;, score=0.923 total time=   0.1s\n",
            "[CV 3/5] END algorithm=brute, n_neighbors=3, weights=distance;, score=1.000 total time=   0.1s\n",
            "[CV 4/5] END algorithm=brute, n_neighbors=3, weights=distance;, score=0.885 total time=   0.1s\n",
            "[CV 5/5] END algorithm=brute, n_neighbors=3, weights=distance;, score=0.960 total time=   0.1s\n",
            "[CV 1/5] END algorithm=brute, n_neighbors=5, weights=uniform;, score=0.962 total time=   0.1s\n",
            "[CV 2/5] END algorithm=brute, n_neighbors=5, weights=uniform;, score=0.923 total time=   0.1s\n",
            "[CV 3/5] END algorithm=brute, n_neighbors=5, weights=uniform;, score=0.923 total time=   0.1s\n",
            "[CV 4/5] END algorithm=brute, n_neighbors=5, weights=uniform;, score=0.808 total time=   0.1s\n",
            "[CV 5/5] END algorithm=brute, n_neighbors=5, weights=uniform;, score=1.000 total time=   0.0s\n",
            "[CV 1/5] END algorithm=brute, n_neighbors=5, weights=distance;, score=0.962 total time=   0.0s\n",
            "[CV 2/5] END algorithm=brute, n_neighbors=5, weights=distance;, score=0.923 total time=   0.0s\n",
            "[CV 3/5] END algorithm=brute, n_neighbors=5, weights=distance;, score=1.000 total time=   0.1s\n",
            "[CV 4/5] END algorithm=brute, n_neighbors=5, weights=distance;, score=0.808 total time=   0.0s\n",
            "[CV 5/5] END algorithm=brute, n_neighbors=5, weights=distance;, score=1.000 total time=   0.0s\n",
            "[CV 1/5] END algorithm=brute, n_neighbors=8, weights=uniform;, score=0.846 total time=   0.0s\n",
            "[CV 2/5] END algorithm=brute, n_neighbors=8, weights=uniform;, score=0.923 total time=   0.0s\n",
            "[CV 3/5] END algorithm=brute, n_neighbors=8, weights=uniform;, score=0.846 total time=   0.0s\n",
            "[CV 4/5] END algorithm=brute, n_neighbors=8, weights=uniform;, score=0.808 total time=   0.0s\n",
            "[CV 5/5] END algorithm=brute, n_neighbors=8, weights=uniform;, score=0.920 total time=   0.0s\n",
            "[CV 1/5] END algorithm=brute, n_neighbors=8, weights=distance;, score=0.962 total time=   0.0s\n",
            "[CV 2/5] END algorithm=brute, n_neighbors=8, weights=distance;, score=0.923 total time=   0.0s\n",
            "[CV 3/5] END algorithm=brute, n_neighbors=8, weights=distance;, score=1.000 total time=   0.0s\n",
            "[CV 4/5] END algorithm=brute, n_neighbors=8, weights=distance;, score=0.846 total time=   0.0s\n",
            "[CV 5/5] END algorithm=brute, n_neighbors=8, weights=distance;, score=0.920 total time=   0.0s\n",
            "[CV 1/5] END algorithm=brute, n_neighbors=10, weights=uniform;, score=0.846 total time=   0.1s\n",
            "[CV 2/5] END algorithm=brute, n_neighbors=10, weights=uniform;, score=0.885 total time=   0.1s\n",
            "[CV 3/5] END algorithm=brute, n_neighbors=10, weights=uniform;, score=0.846 total time=   0.1s\n",
            "[CV 4/5] END algorithm=brute, n_neighbors=10, weights=uniform;, score=0.808 total time=   0.1s\n",
            "[CV 5/5] END algorithm=brute, n_neighbors=10, weights=uniform;, score=0.920 total time=   0.1s\n",
            "[CV 1/5] END algorithm=brute, n_neighbors=10, weights=distance;, score=0.962 total time=   0.0s\n",
            "[CV 2/5] END algorithm=brute, n_neighbors=10, weights=distance;, score=0.923 total time=   0.0s\n",
            "[CV 3/5] END algorithm=brute, n_neighbors=10, weights=distance;, score=1.000 total time=   0.0s\n",
            "[CV 4/5] END algorithm=brute, n_neighbors=10, weights=distance;, score=0.885 total time=   0.1s\n",
            "[CV 5/5] END algorithm=brute, n_neighbors=10, weights=distance;, score=0.920 total time=   0.1s\n"
          ]
        },
        {
          "output_type": "execute_result",
          "data": {
            "text/plain": [
              "GridSearchCV(cv=5, estimator=KNeighborsClassifier(),\n",
              "             param_grid={'algorithm': ['auto', 'ball_tree', 'kd_tree', 'brute'],\n",
              "                         'n_neighbors': [3, 5, 8, 10],\n",
              "                         'weights': ['uniform', 'distance']},\n",
              "             verbose=3)"
            ],
            "text/html": [
              "<style>#sk-container-id-9 {color: black;background-color: white;}#sk-container-id-9 pre{padding: 0;}#sk-container-id-9 div.sk-toggleable {background-color: white;}#sk-container-id-9 label.sk-toggleable__label {cursor: pointer;display: block;width: 100%;margin-bottom: 0;padding: 0.3em;box-sizing: border-box;text-align: center;}#sk-container-id-9 label.sk-toggleable__label-arrow:before {content: \"▸\";float: left;margin-right: 0.25em;color: #696969;}#sk-container-id-9 label.sk-toggleable__label-arrow:hover:before {color: black;}#sk-container-id-9 div.sk-estimator:hover label.sk-toggleable__label-arrow:before {color: black;}#sk-container-id-9 div.sk-toggleable__content {max-height: 0;max-width: 0;overflow: hidden;text-align: left;background-color: #f0f8ff;}#sk-container-id-9 div.sk-toggleable__content pre {margin: 0.2em;color: black;border-radius: 0.25em;background-color: #f0f8ff;}#sk-container-id-9 input.sk-toggleable__control:checked~div.sk-toggleable__content {max-height: 200px;max-width: 100%;overflow: auto;}#sk-container-id-9 input.sk-toggleable__control:checked~label.sk-toggleable__label-arrow:before {content: \"▾\";}#sk-container-id-9 div.sk-estimator input.sk-toggleable__control:checked~label.sk-toggleable__label {background-color: #d4ebff;}#sk-container-id-9 div.sk-label input.sk-toggleable__control:checked~label.sk-toggleable__label {background-color: #d4ebff;}#sk-container-id-9 input.sk-hidden--visually {border: 0;clip: rect(1px 1px 1px 1px);clip: rect(1px, 1px, 1px, 1px);height: 1px;margin: -1px;overflow: hidden;padding: 0;position: absolute;width: 1px;}#sk-container-id-9 div.sk-estimator {font-family: monospace;background-color: #f0f8ff;border: 1px dotted black;border-radius: 0.25em;box-sizing: border-box;margin-bottom: 0.5em;}#sk-container-id-9 div.sk-estimator:hover {background-color: #d4ebff;}#sk-container-id-9 div.sk-parallel-item::after {content: \"\";width: 100%;border-bottom: 1px solid gray;flex-grow: 1;}#sk-container-id-9 div.sk-label:hover label.sk-toggleable__label {background-color: #d4ebff;}#sk-container-id-9 div.sk-serial::before {content: \"\";position: absolute;border-left: 1px solid gray;box-sizing: border-box;top: 0;bottom: 0;left: 50%;z-index: 0;}#sk-container-id-9 div.sk-serial {display: flex;flex-direction: column;align-items: center;background-color: white;padding-right: 0.2em;padding-left: 0.2em;position: relative;}#sk-container-id-9 div.sk-item {position: relative;z-index: 1;}#sk-container-id-9 div.sk-parallel {display: flex;align-items: stretch;justify-content: center;background-color: white;position: relative;}#sk-container-id-9 div.sk-item::before, #sk-container-id-9 div.sk-parallel-item::before {content: \"\";position: absolute;border-left: 1px solid gray;box-sizing: border-box;top: 0;bottom: 0;left: 50%;z-index: -1;}#sk-container-id-9 div.sk-parallel-item {display: flex;flex-direction: column;z-index: 1;position: relative;background-color: white;}#sk-container-id-9 div.sk-parallel-item:first-child::after {align-self: flex-end;width: 50%;}#sk-container-id-9 div.sk-parallel-item:last-child::after {align-self: flex-start;width: 50%;}#sk-container-id-9 div.sk-parallel-item:only-child::after {width: 0;}#sk-container-id-9 div.sk-dashed-wrapped {border: 1px dashed gray;margin: 0 0.4em 0.5em 0.4em;box-sizing: border-box;padding-bottom: 0.4em;background-color: white;}#sk-container-id-9 div.sk-label label {font-family: monospace;font-weight: bold;display: inline-block;line-height: 1.2em;}#sk-container-id-9 div.sk-label-container {text-align: center;}#sk-container-id-9 div.sk-container {/* jupyter's `normalize.less` sets `[hidden] { display: none; }` but bootstrap.min.css set `[hidden] { display: none !important; }` so we also need the `!important` here to be able to override the default hidden behavior on the sphinx rendered scikit-learn.org. See: https://github.com/scikit-learn/scikit-learn/issues/21755 */display: inline-block !important;position: relative;}#sk-container-id-9 div.sk-text-repr-fallback {display: none;}</style><div id=\"sk-container-id-9\" class=\"sk-top-container\"><div class=\"sk-text-repr-fallback\"><pre>GridSearchCV(cv=5, estimator=KNeighborsClassifier(),\n",
              "             param_grid={&#x27;algorithm&#x27;: [&#x27;auto&#x27;, &#x27;ball_tree&#x27;, &#x27;kd_tree&#x27;, &#x27;brute&#x27;],\n",
              "                         &#x27;n_neighbors&#x27;: [3, 5, 8, 10],\n",
              "                         &#x27;weights&#x27;: [&#x27;uniform&#x27;, &#x27;distance&#x27;]},\n",
              "             verbose=3)</pre><b>In a Jupyter environment, please rerun this cell to show the HTML representation or trust the notebook. <br />On GitHub, the HTML representation is unable to render, please try loading this page with nbviewer.org.</b></div><div class=\"sk-container\" hidden><div class=\"sk-item sk-dashed-wrapped\"><div class=\"sk-label-container\"><div class=\"sk-label sk-toggleable\"><input class=\"sk-toggleable__control sk-hidden--visually\" id=\"sk-estimator-id-25\" type=\"checkbox\" ><label for=\"sk-estimator-id-25\" class=\"sk-toggleable__label sk-toggleable__label-arrow\">GridSearchCV</label><div class=\"sk-toggleable__content\"><pre>GridSearchCV(cv=5, estimator=KNeighborsClassifier(),\n",
              "             param_grid={&#x27;algorithm&#x27;: [&#x27;auto&#x27;, &#x27;ball_tree&#x27;, &#x27;kd_tree&#x27;, &#x27;brute&#x27;],\n",
              "                         &#x27;n_neighbors&#x27;: [3, 5, 8, 10],\n",
              "                         &#x27;weights&#x27;: [&#x27;uniform&#x27;, &#x27;distance&#x27;]},\n",
              "             verbose=3)</pre></div></div></div><div class=\"sk-parallel\"><div class=\"sk-parallel-item\"><div class=\"sk-item\"><div class=\"sk-label-container\"><div class=\"sk-label sk-toggleable\"><input class=\"sk-toggleable__control sk-hidden--visually\" id=\"sk-estimator-id-26\" type=\"checkbox\" ><label for=\"sk-estimator-id-26\" class=\"sk-toggleable__label sk-toggleable__label-arrow\">estimator: KNeighborsClassifier</label><div class=\"sk-toggleable__content\"><pre>KNeighborsClassifier()</pre></div></div></div><div class=\"sk-serial\"><div class=\"sk-item\"><div class=\"sk-estimator sk-toggleable\"><input class=\"sk-toggleable__control sk-hidden--visually\" id=\"sk-estimator-id-27\" type=\"checkbox\" ><label for=\"sk-estimator-id-27\" class=\"sk-toggleable__label sk-toggleable__label-arrow\">KNeighborsClassifier</label><div class=\"sk-toggleable__content\"><pre>KNeighborsClassifier()</pre></div></div></div></div></div></div></div></div></div></div>"
            ]
          },
          "metadata": {},
          "execution_count": 80
        }
      ]
    },
    {
      "cell_type": "code",
      "source": [
        "y_train_pred = gs.predict(X_train_scaled)\n",
        "y_test_pred  = gs.predict(X_test_scaled)\n",
        "cohen_kappa_score(y_test, y_test_pred)"
      ],
      "metadata": {
        "colab": {
          "base_uri": "https://localhost:8080/"
        },
        "id": "AyDRG2pgeXih",
        "outputId": "29ac82ee-884b-4feb-b12d-67571d40ca74"
      },
      "execution_count": 81,
      "outputs": [
        {
          "output_type": "execute_result",
          "data": {
            "text/plain": [
              "0.574585635359116"
            ]
          },
          "metadata": {},
          "execution_count": 81
        }
      ]
    },
    {
      "cell_type": "code",
      "source": [
        "results = cross_val_score(gs.best_estimator_, X_train_scaled, y_train, cv=5)\n",
        "print(f\"Average accuracy: {results.mean()}\")\n",
        "results = cross_val_score(gs.best_estimator_, X_test_scaled, y_test, cv=5)\n",
        "print(f\"Average accuracy: {results.mean()}\")"
      ],
      "metadata": {
        "colab": {
          "base_uri": "https://localhost:8080/"
        },
        "id": "ScovCTLdebDS",
        "outputId": "c8647e5c-2ecc-4750-9735-faacf626af2d"
      },
      "execution_count": 82,
      "outputs": [
        {
          "output_type": "stream",
          "name": "stdout",
          "text": [
            "Average accuracy: 0.9535384615384614\n",
            "Average accuracy: 0.7857142857142857\n"
          ]
        }
      ]
    },
    {
      "cell_type": "code",
      "source": [
        "with open('knn.pickle', 'wb') as file:\n",
        "    pickle.dump(gs.best_estimator_, file)"
      ],
      "metadata": {
        "id": "yc0vnyMMeiSv"
      },
      "execution_count": 83,
      "outputs": []
    },
    {
      "cell_type": "markdown",
      "source": [
        "###Decision Tree Model"
      ],
      "metadata": {
        "id": "tYehtcBvfNVE"
      }
    },
    {
      "cell_type": "code",
      "source": [
        "# Create A Dot Plot\n",
        "from sklearn.tree import DecisionTreeClassifier\n",
        "from IPython.display import Image\n",
        "from sklearn import tree\n",
        "import pydotplus\n",
        "import graphviz"
      ],
      "metadata": {
        "id": "gemSkhMdfVA8",
        "colab": {
          "base_uri": "https://localhost:8080/",
          "height": 217
        },
        "outputId": "5e220c61-ba0b-4ba5-95bf-c5c5be436679"
      },
      "execution_count": 86,
      "outputs": [
        {
          "output_type": "error",
          "ename": "NameError",
          "evalue": "ignored",
          "traceback": [
            "\u001b[0;31m---------------------------------------------------------------------------\u001b[0m",
            "\u001b[0;31mNameError\u001b[0m                                 Traceback (most recent call last)",
            "\u001b[0;32m<ipython-input-86-61f39e8b7119>\u001b[0m in \u001b[0;36m<cell line: 8>\u001b[0;34m()\u001b[0m\n\u001b[1;32m      6\u001b[0m \u001b[0;32mimport\u001b[0m \u001b[0mgraphviz\u001b[0m\u001b[0;34m\u001b[0m\u001b[0;34m\u001b[0m\u001b[0m\n\u001b[1;32m      7\u001b[0m \u001b[0;34m\u001b[0m\u001b[0m\n\u001b[0;32m----> 8\u001b[0;31m \u001b[0mdot_data\u001b[0m \u001b[0;34m=\u001b[0m \u001b[0mtree\u001b[0m\u001b[0;34m.\u001b[0m\u001b[0mexport_graphviz\u001b[0m\u001b[0;34m(\u001b[0m\u001b[0mdcf\u001b[0m\u001b[0;34m,\u001b[0m \u001b[0mout_file\u001b[0m\u001b[0;34m=\u001b[0m\u001b[0;32mNone\u001b[0m\u001b[0;34m,\u001b[0m \u001b[0mfeature_names\u001b[0m\u001b[0;34m=\u001b[0m\u001b[0mfeature_names\u001b[0m\u001b[0;34m,\u001b[0m \u001b[0mclass_names\u001b[0m\u001b[0;34m=\u001b[0m\u001b[0mtarget_names\u001b[0m\u001b[0;34m)\u001b[0m\u001b[0;34m\u001b[0m\u001b[0;34m\u001b[0m\u001b[0m\n\u001b[0m",
            "\u001b[0;31mNameError\u001b[0m: name 'dcf' is not defined"
          ]
        }
      ]
    },
    {
      "cell_type": "code",
      "source": [
        "dcf = DecisionTreeClassifier(random_state=0)\n",
        "dcf.fit(X_train_scaled,y_train_pred)\n"
      ],
      "metadata": {
        "colab": {
          "base_uri": "https://localhost:8080/",
          "height": 74
        },
        "id": "dVLQbuJQiULd",
        "outputId": "67d93e3f-6f0a-4c35-9151-b82fa4856521"
      },
      "execution_count": 87,
      "outputs": [
        {
          "output_type": "execute_result",
          "data": {
            "text/plain": [
              "DecisionTreeClassifier(random_state=0)"
            ],
            "text/html": [
              "<style>#sk-container-id-10 {color: black;background-color: white;}#sk-container-id-10 pre{padding: 0;}#sk-container-id-10 div.sk-toggleable {background-color: white;}#sk-container-id-10 label.sk-toggleable__label {cursor: pointer;display: block;width: 100%;margin-bottom: 0;padding: 0.3em;box-sizing: border-box;text-align: center;}#sk-container-id-10 label.sk-toggleable__label-arrow:before {content: \"▸\";float: left;margin-right: 0.25em;color: #696969;}#sk-container-id-10 label.sk-toggleable__label-arrow:hover:before {color: black;}#sk-container-id-10 div.sk-estimator:hover label.sk-toggleable__label-arrow:before {color: black;}#sk-container-id-10 div.sk-toggleable__content {max-height: 0;max-width: 0;overflow: hidden;text-align: left;background-color: #f0f8ff;}#sk-container-id-10 div.sk-toggleable__content pre {margin: 0.2em;color: black;border-radius: 0.25em;background-color: #f0f8ff;}#sk-container-id-10 input.sk-toggleable__control:checked~div.sk-toggleable__content {max-height: 200px;max-width: 100%;overflow: auto;}#sk-container-id-10 input.sk-toggleable__control:checked~label.sk-toggleable__label-arrow:before {content: \"▾\";}#sk-container-id-10 div.sk-estimator input.sk-toggleable__control:checked~label.sk-toggleable__label {background-color: #d4ebff;}#sk-container-id-10 div.sk-label input.sk-toggleable__control:checked~label.sk-toggleable__label {background-color: #d4ebff;}#sk-container-id-10 input.sk-hidden--visually {border: 0;clip: rect(1px 1px 1px 1px);clip: rect(1px, 1px, 1px, 1px);height: 1px;margin: -1px;overflow: hidden;padding: 0;position: absolute;width: 1px;}#sk-container-id-10 div.sk-estimator {font-family: monospace;background-color: #f0f8ff;border: 1px dotted black;border-radius: 0.25em;box-sizing: border-box;margin-bottom: 0.5em;}#sk-container-id-10 div.sk-estimator:hover {background-color: #d4ebff;}#sk-container-id-10 div.sk-parallel-item::after {content: \"\";width: 100%;border-bottom: 1px solid gray;flex-grow: 1;}#sk-container-id-10 div.sk-label:hover label.sk-toggleable__label {background-color: #d4ebff;}#sk-container-id-10 div.sk-serial::before {content: \"\";position: absolute;border-left: 1px solid gray;box-sizing: border-box;top: 0;bottom: 0;left: 50%;z-index: 0;}#sk-container-id-10 div.sk-serial {display: flex;flex-direction: column;align-items: center;background-color: white;padding-right: 0.2em;padding-left: 0.2em;position: relative;}#sk-container-id-10 div.sk-item {position: relative;z-index: 1;}#sk-container-id-10 div.sk-parallel {display: flex;align-items: stretch;justify-content: center;background-color: white;position: relative;}#sk-container-id-10 div.sk-item::before, #sk-container-id-10 div.sk-parallel-item::before {content: \"\";position: absolute;border-left: 1px solid gray;box-sizing: border-box;top: 0;bottom: 0;left: 50%;z-index: -1;}#sk-container-id-10 div.sk-parallel-item {display: flex;flex-direction: column;z-index: 1;position: relative;background-color: white;}#sk-container-id-10 div.sk-parallel-item:first-child::after {align-self: flex-end;width: 50%;}#sk-container-id-10 div.sk-parallel-item:last-child::after {align-self: flex-start;width: 50%;}#sk-container-id-10 div.sk-parallel-item:only-child::after {width: 0;}#sk-container-id-10 div.sk-dashed-wrapped {border: 1px dashed gray;margin: 0 0.4em 0.5em 0.4em;box-sizing: border-box;padding-bottom: 0.4em;background-color: white;}#sk-container-id-10 div.sk-label label {font-family: monospace;font-weight: bold;display: inline-block;line-height: 1.2em;}#sk-container-id-10 div.sk-label-container {text-align: center;}#sk-container-id-10 div.sk-container {/* jupyter's `normalize.less` sets `[hidden] { display: none; }` but bootstrap.min.css set `[hidden] { display: none !important; }` so we also need the `!important` here to be able to override the default hidden behavior on the sphinx rendered scikit-learn.org. See: https://github.com/scikit-learn/scikit-learn/issues/21755 */display: inline-block !important;position: relative;}#sk-container-id-10 div.sk-text-repr-fallback {display: none;}</style><div id=\"sk-container-id-10\" class=\"sk-top-container\"><div class=\"sk-text-repr-fallback\"><pre>DecisionTreeClassifier(random_state=0)</pre><b>In a Jupyter environment, please rerun this cell to show the HTML representation or trust the notebook. <br />On GitHub, the HTML representation is unable to render, please try loading this page with nbviewer.org.</b></div><div class=\"sk-container\" hidden><div class=\"sk-item\"><div class=\"sk-estimator sk-toggleable\"><input class=\"sk-toggleable__control sk-hidden--visually\" id=\"sk-estimator-id-28\" type=\"checkbox\" checked><label for=\"sk-estimator-id-28\" class=\"sk-toggleable__label sk-toggleable__label-arrow\">DecisionTreeClassifier</label><div class=\"sk-toggleable__content\"><pre>DecisionTreeClassifier(random_state=0)</pre></div></div></div></div></div>"
            ]
          },
          "metadata": {},
          "execution_count": 87
        }
      ]
    },
    {
      "cell_type": "code",
      "source": [
        "dcf.score(X_test_scaled,y_test_pred)"
      ],
      "metadata": {
        "colab": {
          "base_uri": "https://localhost:8080/"
        },
        "id": "X4odCbnIjtqH",
        "outputId": "aafb6896-0512-4897-dfb5-85c61e2d07d4"
      },
      "execution_count": 89,
      "outputs": [
        {
          "output_type": "execute_result",
          "data": {
            "text/plain": [
              "0.8787878787878788"
            ]
          },
          "metadata": {},
          "execution_count": 89
        }
      ]
    },
    {
      "cell_type": "code",
      "source": [
        "feature_names = [\n",
        "    'AGE', 'SEX', 'STEROID', 'ANTIVIRALS', 'FATIGUE', 'MALAISE',\n",
        "    'ANOREXIA', 'LIVER_BIG', 'LIVER_FIRM', 'SPLEEN_PALPABLE', 'SPIDERS',\n",
        "    'ASCITES', 'VARICES', 'BILIRUBIN', 'ALK_PHOSPHATE', 'SGOT', 'ALBUMIN',\n",
        "    'PROTIME', 'HISTOLOGY'\n",
        "]\n",
        "\n",
        "target_names = [\"DIE\", \"LIVE\"]"
      ],
      "metadata": {
        "id": "PVS8QfmufU90"
      },
      "execution_count": 90,
      "outputs": []
    },
    {
      "cell_type": "code",
      "source": [
        "with open('dtree.pickle', 'wb') as file:\n",
        "    pickle.dump(dcf, file)"
      ],
      "metadata": {
        "id": "GGjCEN9UymX6"
      },
      "execution_count": 97,
      "outputs": []
    },
    {
      "cell_type": "code",
      "source": [
        "dot_data = tree.export_graphviz(dcf, out_file=None, feature_names=feature_names, class_names=target_names)"
      ],
      "metadata": {
        "id": "m4-xGORr1mVu"
      },
      "execution_count": 92,
      "outputs": []
    },
    {
      "cell_type": "code",
      "source": [
        "graph = pydotplus.graph_from_dot_data(dot_data)"
      ],
      "metadata": {
        "id": "hZoOwQvHm-FO"
      },
      "execution_count": 93,
      "outputs": []
    },
    {
      "cell_type": "code",
      "source": [
        "Image(graph.create_png())"
      ],
      "metadata": {
        "colab": {
          "base_uri": "https://localhost:8080/",
          "height": 1000
        },
        "id": "tiDIpsVLfiEG",
        "outputId": "bc14930d-a40e-4ad4-90d4-01c4466a3569"
      },
      "execution_count": 94,
      "outputs": [
        {
          "output_type": "execute_result",
          "data": {
            "image/png": "[encoded data removed]",
            "text/plain": [
              "<IPython.core.display.Image object>"
            ]
          },
          "metadata": {},
          "execution_count": 94
        }
      ]
    },
    {
      "cell_type": "markdown",
      "source": [
        "# Exploratory Data Analysis (EDA)\n"
      ],
      "metadata": {
        "id": "PDMdYQ-fV3pe"
      }
    },
    {
      "cell_type": "code",
      "source": [
        "df.describe()"
      ],
      "metadata": {
        "colab": {
          "base_uri": "https://localhost:8080/",
          "height": 338
        },
        "id": "hbU9RXHfVp1o",
        "outputId": "a83f2d70-91d8-439f-a483-98ac37ccb437"
      },
      "execution_count": null,
      "outputs": [
        {
          "output_type": "execute_result",
          "data": {
            "text/plain": [
              "              AGE     STEROID  ANTIVIRALS     FATIGUE     MALAISE    ANOREXIA  \\\n",
              "count  102.000000  102.000000  102.000000  102.000000  102.000000  102.000000   \n",
              "mean    41.617647    1.509804    1.852941    1.372549    1.637255    1.823529   \n",
              "std     11.796999    0.502373    0.355914    0.485871    0.483166    0.383103   \n",
              "min      7.000000    1.000000    1.000000    1.000000    1.000000    1.000000   \n",
              "25%     34.000000    1.000000    2.000000    1.000000    1.000000    2.000000   \n",
              "50%     41.500000    2.000000    2.000000    1.000000    2.000000    2.000000   \n",
              "75%     50.750000    2.000000    2.000000    2.000000    2.000000    2.000000   \n",
              "max     69.000000    2.000000    2.000000    2.000000    2.000000    2.000000   \n",
              "\n",
              "        LIVER BIG  LIVER FIRM  SPLEEN PALPABLE     SPIDERS     ASCITES  \\\n",
              "count  102.000000  102.000000       102.000000  102.000000  102.000000   \n",
              "mean     1.813725    1.607843         1.764706    1.666667    1.872549   \n",
              "std      0.391251    0.490642         0.426277    0.473732    0.335124   \n",
              "min      1.000000    1.000000         1.000000    1.000000    1.000000   \n",
              "25%      2.000000    1.000000         2.000000    1.000000    2.000000   \n",
              "50%      2.000000    2.000000         2.000000    2.000000    2.000000   \n",
              "75%      2.000000    2.000000         2.000000    2.000000    2.000000   \n",
              "max      2.000000    2.000000         2.000000    2.000000    2.000000   \n",
              "\n",
              "          VARICES   BILIRUBIN  ALK PHOSPHATE        SGOT     ALBUMIN  \\\n",
              "count  102.000000  102.000000     102.000000  102.000000  102.000000   \n",
              "mean     1.872549    1.439216     101.813725   79.588235    3.829412   \n",
              "std      0.335124    1.307265      44.671237   66.811743    0.593794   \n",
              "min      1.000000    0.300000      30.000000   14.000000    2.100000   \n",
              "25%      2.000000    0.800000      78.500000   30.250000    3.525000   \n",
              "50%      2.000000    1.000000      85.000000   55.000000    4.000000   \n",
              "75%      2.000000    1.500000     122.250000  107.750000    4.175000   \n",
              "max      2.000000    8.000000     256.000000  278.000000    5.300000   \n",
              "\n",
              "          PROTIME   HISTOLOGY  \n",
              "count  102.000000  102.000000  \n",
              "mean    62.186275    1.500000  \n",
              "std     16.531237    0.502469  \n",
              "min      0.000000    1.000000  \n",
              "25%     58.500000    1.000000  \n",
              "50%     62.000000    1.500000  \n",
              "75%     63.000000    2.000000  \n",
              "max    100.000000    2.000000  "
            ],
            "text/html": [
              "\n",
              "  <div id=\"df-48981b3c-6db4-423c-8bc0-88380390a7b4\" class=\"colab-df-container\">\n",
              "    <div>\n",
              "<style scoped>\n",
              "    .dataframe tbody tr th:only-of-type {\n",
              "        vertical-align: middle;\n",
              "    }\n",
              "\n",
              "    .dataframe tbody tr th {\n",
              "        vertical-align: top;\n",
              "    }\n",
              "\n",
              "    .dataframe thead th {\n",
              "        text-align: right;\n",
              "    }\n",
              "</style>\n",
              "<table border=\"1\" class=\"dataframe\">\n",
              "  <thead>\n",
              "    <tr style=\"text-align: right;\">\n",
              "      <th></th>\n",
              "      <th>AGE</th>\n",
              "      <th>STEROID</th>\n",
              "      <th>ANTIVIRALS</th>\n",
              "      <th>FATIGUE</th>\n",
              "      <th>MALAISE</th>\n",
              "      <th>ANOREXIA</th>\n",
              "      <th>LIVER BIG</th>\n",
              "      <th>LIVER FIRM</th>\n",
              "      <th>SPLEEN PALPABLE</th>\n",
              "      <th>SPIDERS</th>\n",
              "      <th>ASCITES</th>\n",
              "      <th>VARICES</th>\n",
              "      <th>BILIRUBIN</th>\n",
              "      <th>ALK PHOSPHATE</th>\n",
              "      <th>SGOT</th>\n",
              "      <th>ALBUMIN</th>\n",
              "      <th>PROTIME</th>\n",
              "      <th>HISTOLOGY</th>\n",
              "    </tr>\n",
              "  </thead>\n",
              "  <tbody>\n",
              "    <tr>\n",
              "      <th>count</th>\n",
              "      <td>102.000000</td>\n",
              "      <td>102.000000</td>\n",
              "      <td>102.000000</td>\n",
              "      <td>102.000000</td>\n",
              "      <td>102.000000</td>\n",
              "      <td>102.000000</td>\n",
              "      <td>102.000000</td>\n",
              "      <td>102.000000</td>\n",
              "      <td>102.000000</td>\n",
              "      <td>102.000000</td>\n",
              "      <td>102.000000</td>\n",
              "      <td>102.000000</td>\n",
              "      <td>102.000000</td>\n",
              "      <td>102.000000</td>\n",
              "      <td>102.000000</td>\n",
              "      <td>102.000000</td>\n",
              "      <td>102.000000</td>\n",
              "      <td>102.000000</td>\n",
              "    </tr>\n",
              "    <tr>\n",
              "      <th>mean</th>\n",
              "      <td>41.617647</td>\n",
              "      <td>1.509804</td>\n",
              "      <td>1.852941</td>\n",
              "      <td>1.372549</td>\n",
              "      <td>1.637255</td>\n",
              "      <td>1.823529</td>\n",
              "      <td>1.813725</td>\n",
              "      <td>1.607843</td>\n",
              "      <td>1.764706</td>\n",
              "      <td>1.666667</td>\n",
              "      <td>1.872549</td>\n",
              "      <td>1.872549</td>\n",
              "      <td>1.439216</td>\n",
              "      <td>101.813725</td>\n",
              "      <td>79.588235</td>\n",
              "      <td>3.829412</td>\n",
              "      <td>62.186275</td>\n",
              "      <td>1.500000</td>\n",
              "    </tr>\n",
              "    <tr>\n",
              "      <th>std</th>\n",
              "      <td>11.796999</td>\n",
              "      <td>0.502373</td>\n",
              "      <td>0.355914</td>\n",
              "      <td>0.485871</td>\n",
              "      <td>0.483166</td>\n",
              "      <td>0.383103</td>\n",
              "      <td>0.391251</td>\n",
              "      <td>0.490642</td>\n",
              "      <td>0.426277</td>\n",
              "      <td>0.473732</td>\n",
              "      <td>0.335124</td>\n",
              "      <td>0.335124</td>\n",
              "      <td>1.307265</td>\n",
              "      <td>44.671237</td>\n",
              "      <td>66.811743</td>\n",
              "      <td>0.593794</td>\n",
              "      <td>16.531237</td>\n",
              "      <td>0.502469</td>\n",
              "    </tr>\n",
              "    <tr>\n",
              "      <th>min</th>\n",
              "      <td>7.000000</td>\n",
              "      <td>1.000000</td>\n",
              "      <td>1.000000</td>\n",
              "      <td>1.000000</td>\n",
              "      <td>1.000000</td>\n",
              "      <td>1.000000</td>\n",
              "      <td>1.000000</td>\n",
              "      <td>1.000000</td>\n",
              "      <td>1.000000</td>\n",
              "      <td>1.000000</td>\n",
              "      <td>1.000000</td>\n",
              "      <td>1.000000</td>\n",
              "      <td>0.300000</td>\n",
              "      <td>30.000000</td>\n",
              "      <td>14.000000</td>\n",
              "      <td>2.100000</td>\n",
              "      <td>0.000000</td>\n",
              "      <td>1.000000</td>\n",
              "    </tr>\n",
              "    <tr>\n",
              "      <th>25%</th>\n",
              "      <td>34.000000</td>\n",
              "      <td>1.000000</td>\n",
              "      <td>2.000000</td>\n",
              "      <td>1.000000</td>\n",
              "      <td>1.000000</td>\n",
              "      <td>2.000000</td>\n",
              "      <td>2.000000</td>\n",
              "      <td>1.000000</td>\n",
              "      <td>2.000000</td>\n",
              "      <td>1.000000</td>\n",
              "      <td>2.000000</td>\n",
              "      <td>2.000000</td>\n",
              "      <td>0.800000</td>\n",
              "      <td>78.500000</td>\n",
              "      <td>30.250000</td>\n",
              "      <td>3.525000</td>\n",
              "      <td>58.500000</td>\n",
              "      <td>1.000000</td>\n",
              "    </tr>\n",
              "    <tr>\n",
              "      <th>50%</th>\n",
              "      <td>41.500000</td>\n",
              "      <td>2.000000</td>\n",
              "      <td>2.000000</td>\n",
              "      <td>1.000000</td>\n",
              "      <td>2.000000</td>\n",
              "      <td>2.000000</td>\n",
              "      <td>2.000000</td>\n",
              "      <td>2.000000</td>\n",
              "      <td>2.000000</td>\n",
              "      <td>2.000000</td>\n",
              "      <td>2.000000</td>\n",
              "      <td>2.000000</td>\n",
              "      <td>1.000000</td>\n",
              "      <td>85.000000</td>\n",
              "      <td>55.000000</td>\n",
              "      <td>4.000000</td>\n",
              "      <td>62.000000</td>\n",
              "      <td>1.500000</td>\n",
              "    </tr>\n",
              "    <tr>\n",
              "      <th>75%</th>\n",
              "      <td>50.750000</td>\n",
              "      <td>2.000000</td>\n",
              "      <td>2.000000</td>\n",
              "      <td>2.000000</td>\n",
              "      <td>2.000000</td>\n",
              "      <td>2.000000</td>\n",
              "      <td>2.000000</td>\n",
              "      <td>2.000000</td>\n",
              "      <td>2.000000</td>\n",
              "      <td>2.000000</td>\n",
              "      <td>2.000000</td>\n",
              "      <td>2.000000</td>\n",
              "      <td>1.500000</td>\n",
              "      <td>122.250000</td>\n",
              "      <td>107.750000</td>\n",
              "      <td>4.175000</td>\n",
              "      <td>63.000000</td>\n",
              "      <td>2.000000</td>\n",
              "    </tr>\n",
              "    <tr>\n",
              "      <th>max</th>\n",
              "      <td>69.000000</td>\n",
              "      <td>2.000000</td>\n",
              "      <td>2.000000</td>\n",
              "      <td>2.000000</td>\n",
              "      <td>2.000000</td>\n",
              "      <td>2.000000</td>\n",
              "      <td>2.000000</td>\n",
              "      <td>2.000000</td>\n",
              "      <td>2.000000</td>\n",
              "      <td>2.000000</td>\n",
              "      <td>2.000000</td>\n",
              "      <td>2.000000</td>\n",
              "      <td>8.000000</td>\n",
              "      <td>256.000000</td>\n",
              "      <td>278.000000</td>\n",
              "      <td>5.300000</td>\n",
              "      <td>100.000000</td>\n",
              "      <td>2.000000</td>\n",
              "    </tr>\n",
              "  </tbody>\n",
              "</table>\n",
              "</div>\n",
              "    <div class=\"colab-df-buttons\">\n",
              "\n",
              "  <div class=\"colab-df-container\">\n",
              "    <button class=\"colab-df-convert\" onclick=\"convertToInteractive('df-48981b3c-6db4-423c-8bc0-88380390a7b4')\"\n",
              "            title=\"Convert this dataframe to an interactive table.\"\n",
              "            style=\"display:none;\">\n",
              "\n",
              "  <svg xmlns=\"http://www.w3.org/2000/svg\" height=\"24px\" viewBox=\"0 -960 960 960\">\n",
              "    <path d=\"M120-120v-720h720v720H120Zm60-500h600v-160H180v160Zm220 220h160v-160H400v160Zm0 220h160v-160H400v160ZM180-400h160v-160H180v160Zm440 0h160v-160H620v160ZM180-180h160v-160H180v160Zm440 0h160v-160H620v160Z\"/>\n",
              "  </svg>\n",
              "    </button>\n",
              "\n",
              "  <style>\n",
              "    .colab-df-container {\n",
              "      display:flex;\n",
              "      gap: 12px;\n",
              "    }\n",
              "\n",
              "    .colab-df-convert {\n",
              "      background-color: #E8F0FE;\n",
              "      border: none;\n",
              "      border-radius: 50%;\n",
              "      cursor: pointer;\n",
              "      display: none;\n",
              "      fill: #1967D2;\n",
              "      height: 32px;\n",
              "      padding: 0 0 0 0;\n",
              "      width: 32px;\n",
              "    }\n",
              "\n",
              "    .colab-df-convert:hover {\n",
              "      background-color: #E2EBFA;\n",
              "      box-shadow: 0px 1px 2px rgba(60, 64, 67, 0.3), 0px 1px 3px 1px rgba(60, 64, 67, 0.15);\n",
              "      fill: #174EA6;\n",
              "    }\n",
              "\n",
              "    .colab-df-buttons div {\n",
              "      margin-bottom: 4px;\n",
              "    }\n",
              "\n",
              "    [theme=dark] .colab-df-convert {\n",
              "      background-color: #3B4455;\n",
              "      fill: #D2E3FC;\n",
              "    }\n",
              "\n",
              "    [theme=dark] .colab-df-convert:hover {\n",
              "      background-color: #434B5C;\n",
              "      box-shadow: 0px 1px 3px 1px rgba(0, 0, 0, 0.15);\n",
              "      filter: drop-shadow(0px 1px 2px rgba(0, 0, 0, 0.3));\n",
              "      fill: #FFFFFF;\n",
              "    }\n",
              "  </style>\n",
              "\n",
              "    <script>\n",
              "      const buttonEl =\n",
              "        document.querySelector('#df-48981b3c-6db4-423c-8bc0-88380390a7b4 button.colab-df-convert');\n",
              "      buttonEl.style.display =\n",
              "        google.colab.kernel.accessAllowed ? 'block' : 'none';\n",
              "\n",
              "      async function convertToInteractive(key) {\n",
              "        const element = document.querySelector('#df-48981b3c-6db4-423c-8bc0-88380390a7b4');\n",
              "        const dataTable =\n",
              "          await google.colab.kernel.invokeFunction('convertToInteractive',\n",
              "                                                    [key], {});\n",
              "        if (!dataTable) return;\n",
              "\n",
              "        const docLinkHtml = 'Like what you see? Visit the ' +\n",
              "          '<a target=\"_blank\" href=https://colab.research.google.com/notebooks/data_table.ipynb>data table notebook</a>'\n",
              "          + ' to learn more about interactive tables.';\n",
              "        element.innerHTML = '';\n",
              "        dataTable['output_type'] = 'display_data';\n",
              "        await google.colab.output.renderOutput(dataTable, element);\n",
              "        const docLink = document.createElement('div');\n",
              "        docLink.innerHTML = docLinkHtml;\n",
              "        element.appendChild(docLink);\n",
              "      }\n",
              "    </script>\n",
              "  </div>\n",
              "\n",
              "\n",
              "<div id=\"df-aa9baa56-11a1-4025-b2cc-8f8649b7977f\">\n",
              "  <button class=\"colab-df-quickchart\" onclick=\"quickchart('df-aa9baa56-11a1-4025-b2cc-8f8649b7977f')\"\n",
              "            title=\"Suggest charts.\"\n",
              "            style=\"display:none;\">\n",
              "\n",
              "<svg xmlns=\"http://www.w3.org/2000/svg\" height=\"24px\"viewBox=\"0 0 24 24\"\n",
              "     width=\"24px\">\n",
              "    <g>\n",
              "        <path d=\"M19 3H5c-1.1 0-2 .9-2 2v14c0 1.1.9 2 2 2h14c1.1 0 2-.9 2-2V5c0-1.1-.9-2-2-2zM9 17H7v-7h2v7zm4 0h-2V7h2v10zm4 0h-2v-4h2v4z\"/>\n",
              "    </g>\n",
              "</svg>\n",
              "  </button>\n",
              "\n",
              "<style>\n",
              "  .colab-df-quickchart {\n",
              "      --bg-color: #E8F0FE;\n",
              "      --fill-color: #1967D2;\n",
              "      --hover-bg-color: #E2EBFA;\n",
              "      --hover-fill-color: #174EA6;\n",
              "      --disabled-fill-color: #AAA;\n",
              "      --disabled-bg-color: #DDD;\n",
              "  }\n",
              "\n",
              "  [theme=dark] .colab-df-quickchart {\n",
              "      --bg-color: #3B4455;\n",
              "      --fill-color: #D2E3FC;\n",
              "      --hover-bg-color: #434B5C;\n",
              "      --hover-fill-color: #FFFFFF;\n",
              "      --disabled-bg-color: #3B4455;\n",
              "      --disabled-fill-color: #666;\n",
              "  }\n",
              "\n",
              "  .colab-df-quickchart {\n",
              "    background-color: var(--bg-color);\n",
              "    border: none;\n",
              "    border-radius: 50%;\n",
              "    cursor: pointer;\n",
              "    display: none;\n",
              "    fill: var(--fill-color);\n",
              "    height: 32px;\n",
              "    padding: 0;\n",
              "    width: 32px;\n",
              "  }\n",
              "\n",
              "  .colab-df-quickchart:hover {\n",
              "    background-color: var(--hover-bg-color);\n",
              "    box-shadow: 0 1px 2px rgba(60, 64, 67, 0.3), 0 1px 3px 1px rgba(60, 64, 67, 0.15);\n",
              "    fill: var(--button-hover-fill-color);\n",
              "  }\n",
              "\n",
              "  .colab-df-quickchart-complete:disabled,\n",
              "  .colab-df-quickchart-complete:disabled:hover {\n",
              "    background-color: var(--disabled-bg-color);\n",
              "    fill: var(--disabled-fill-color);\n",
              "    box-shadow: none;\n",
              "  }\n",
              "\n",
              "  .colab-df-spinner {\n",
              "    border: 2px solid var(--fill-color);\n",
              "    border-color: transparent;\n",
              "    border-bottom-color: var(--fill-color);\n",
              "    animation:\n",
              "      spin 1s steps(1) infinite;\n",
              "  }\n",
              "\n",
              "  @keyframes spin {\n",
              "    0% {\n",
              "      border-color: transparent;\n",
              "      border-bottom-color: var(--fill-color);\n",
              "      border-left-color: var(--fill-color);\n",
              "    }\n",
              "    20% {\n",
              "      border-color: transparent;\n",
              "      border-left-color: var(--fill-color);\n",
              "      border-top-color: var(--fill-color);\n",
              "    }\n",
              "    30% {\n",
              "      border-color: transparent;\n",
              "      border-left-color: var(--fill-color);\n",
              "      border-top-color: var(--fill-color);\n",
              "      border-right-color: var(--fill-color);\n",
              "    }\n",
              "    40% {\n",
              "      border-color: transparent;\n",
              "      border-right-color: var(--fill-color);\n",
              "      border-top-color: var(--fill-color);\n",
              "    }\n",
              "    60% {\n",
              "      border-color: transparent;\n",
              "      border-right-color: var(--fill-color);\n",
              "    }\n",
              "    80% {\n",
              "      border-color: transparent;\n",
              "      border-right-color: var(--fill-color);\n",
              "      border-bottom-color: var(--fill-color);\n",
              "    }\n",
              "    90% {\n",
              "      border-color: transparent;\n",
              "      border-bottom-color: var(--fill-color);\n",
              "    }\n",
              "  }\n",
              "</style>\n",
              "\n",
              "  <script>\n",
              "    async function quickchart(key) {\n",
              "      const quickchartButtonEl =\n",
              "        document.querySelector('#' + key + ' button');\n",
              "      quickchartButtonEl.disabled = true;  // To prevent multiple clicks.\n",
              "      quickchartButtonEl.classList.add('colab-df-spinner');\n",
              "      try {\n",
              "        const charts = await google.colab.kernel.invokeFunction(\n",
              "            'suggestCharts', [key], {});\n",
              "      } catch (error) {\n",
              "        console.error('Error during call to suggestCharts:', error);\n",
              "      }\n",
              "      quickchartButtonEl.classList.remove('colab-df-spinner');\n",
              "      quickchartButtonEl.classList.add('colab-df-quickchart-complete');\n",
              "    }\n",
              "    (() => {\n",
              "      let quickchartButtonEl =\n",
              "        document.querySelector('#df-aa9baa56-11a1-4025-b2cc-8f8649b7977f button');\n",
              "      quickchartButtonEl.style.display =\n",
              "        google.colab.kernel.accessAllowed ? 'block' : 'none';\n",
              "    })();\n",
              "  </script>\n",
              "</div>\n",
              "    </div>\n",
              "  </div>\n"
            ]
          },
          "metadata": {},
          "execution_count": 73
        }
      ]
    },
    {
      "cell_type": "code",
      "source": [
        "df['Class'].value_counts()"
      ],
      "metadata": {
        "colab": {
          "base_uri": "https://localhost:8080/"
        },
        "id": "jtTqqg9pVp4P",
        "outputId": "203f7471-1044-464b-fd0b-e2ba5e242564"
      },
      "execution_count": null,
      "outputs": [
        {
          "output_type": "execute_result",
          "data": {
            "text/plain": [
              "DIE     81\n",
              "LIVE    81\n",
              "Name: Class, dtype: int64"
            ]
          },
          "metadata": {},
          "execution_count": 39
        }
      ]
    },
    {
      "cell_type": "code",
      "source": [
        "# plot the graph\n",
        "df['Class'].value_counts().plot(kind='bar')"
      ],
      "metadata": {
        "colab": {
          "base_uri": "https://localhost:8080/",
          "height": 463
        },
        "id": "TISDVo-xVp6w",
        "outputId": "e9eb9539-27c4-4c3c-c440-5271411722bb"
      },
      "execution_count": null,
      "outputs": [
        {
          "output_type": "execute_result",
          "data": {
            "text/plain": [
              "<Axes: >"
            ]
          },
          "metadata": {},
          "execution_count": 40
        },
        {
          "output_type": "display_data",
          "data": {
            "text/plain": [
              "<Figure size 640x480 with 1 Axes>"
            ],
            "image/png": "[encoded data removed]"
          },
          "metadata": {}
        }
      ]
    },
    {
      "cell_type": "code",
      "source": [
        "df.groupby(['AGE','SEX']).size()"
      ],
      "metadata": {
        "colab": {
          "base_uri": "https://localhost:8080/"
        },
        "id": "0t0o9_9JVp8_",
        "outputId": "61fcf845-9410-43d5-e95e-a2a8fcc86859"
      },
      "execution_count": null,
      "outputs": [
        {
          "output_type": "execute_result",
          "data": {
            "text/plain": [
              "AGE  SEX\n",
              "7    M       1\n",
              "20   M       1\n",
              "22   F       1\n",
              "23   M       4\n",
              "24   M       1\n",
              "25   M       1\n",
              "27   M       3\n",
              "28   M       3\n",
              "30   F       1\n",
              "     M       9\n",
              "31   M       6\n",
              "32   M       1\n",
              "33   M       1\n",
              "34   F       2\n",
              "     M       6\n",
              "35   M       1\n",
              "36   M       4\n",
              "37   M       3\n",
              "38   M       5\n",
              "39   M       4\n",
              "40   M       3\n",
              "41   M       1\n",
              "42   M       8\n",
              "43   M       5\n",
              "44   M      11\n",
              "45   F       1\n",
              "     M       3\n",
              "46   M       6\n",
              "47   M       9\n",
              "48   M       5\n",
              "49   M       2\n",
              "50   F       1\n",
              "     M      10\n",
              "51   M       9\n",
              "52   M       3\n",
              "53   F       1\n",
              "54   M       5\n",
              "56   M       7\n",
              "58   M       1\n",
              "59   M       1\n",
              "60   M       1\n",
              "61   M       7\n",
              "62   F       1\n",
              "65   M       1\n",
              "67   F       1\n",
              "69   F       1\n",
              "dtype: int64"
            ]
          },
          "metadata": {},
          "execution_count": 33
        }
      ]
    },
    {
      "cell_type": "markdown",
      "source": [
        "#### Our Observation\n",
        "\n",
        "There is not much insight drawn , so will use frequency distribution"
      ],
      "metadata": {
        "id": "8WWHXvVct7S7"
      }
    },
    {
      "cell_type": "markdown",
      "source": [
        " #### Frequency Distribution Table"
      ],
      "metadata": {
        "id": "7k3cde3SWOdo"
      }
    },
    {
      "cell_type": "code",
      "source": [
        "labels = ['less than 10', '10-20', '20-30', '30-40', '40-50', '50-60', '60-70', '70 and above']\n",
        "bins = [0, 10, 20, 30, 40, 50, 60, 70, 80]\n",
        "\n",
        "freq_dis = df.groupby(pd.cut(df['AGE'], bins=bins, labels=labels, include_lowest=True)).size()"
      ],
      "metadata": {
        "id": "dyuSBPFxVp_V"
      },
      "execution_count": null,
      "outputs": []
    },
    {
      "cell_type": "code",
      "source": [
        "freq_dis.index"
      ],
      "metadata": {
        "colab": {
          "base_uri": "https://localhost:8080/"
        },
        "id": "FIRk-mC7VqB8",
        "outputId": "072ac48b-53ef-4912-d9b1-7debfc1888af"
      },
      "execution_count": null,
      "outputs": [
        {
          "output_type": "execute_result",
          "data": {
            "text/plain": [
              "CategoricalIndex(['less than 10', '10-20', '20-30', '30-40', '40-50', '50-60',\n",
              "                  '60-70', '70 and above'],\n",
              "                 categories=['less than 10', '10-20', '20-30', '30-40', '40-50', '50-60', '60-70', '70 and above'], ordered=True, dtype='category', name='AGE')"
            ]
          },
          "metadata": {},
          "execution_count": 36
        }
      ]
    },
    {
      "cell_type": "code",
      "source": [
        "freq_dis"
      ],
      "metadata": {
        "colab": {
          "base_uri": "https://localhost:8080/"
        },
        "id": "9BqXR2CHaqia",
        "outputId": "6d0a2418-b952-4ac8-fd3c-1b52d33971a9"
      },
      "execution_count": null,
      "outputs": [
        {
          "output_type": "execute_result",
          "data": {
            "text/plain": [
              "AGE\n",
              "less than 10     1\n",
              "10-20            1\n",
              "20-30           23\n",
              "30-40           36\n",
              "40-50           62\n",
              "50-60           28\n",
              "60-70           11\n",
              "70 and above     0\n",
              "dtype: int64"
            ]
          },
          "metadata": {},
          "execution_count": 37
        }
      ]
    },
    {
      "cell_type": "code",
      "source": [
        "plt.bar(freq_dis.index, freq_dis.values)\n",
        "plt.ylabel('Count')\n",
        "plt.title('Age distribution')\n",
        "plt.show()"
      ],
      "metadata": {
        "colab": {
          "base_uri": "https://localhost:8080/",
          "height": 452
        },
        "id": "vTOSTMyBVqFz",
        "outputId": "261819ef-ee2b-4f20-fbfd-2537581f4860"
      },
      "execution_count": null,
      "outputs": [
        {
          "output_type": "display_data",
          "data": {
            "text/plain": [
              "<Figure size 640x480 with 1 Axes>"
            ],
            "image/png": "[encoded data removed]"
          },
          "metadata": {}
        }
      ]
    },
    {
      "cell_type": "markdown",
      "source": [
        "#### Our Observation\n",
        "The most infected with hepatitis is between the age 20 to 60 years\n",
        "The highest prevalence of Hepatitis occurs between the age of 40 to 50 years"
      ],
      "metadata": {
        "id": "iUWQoLosuLND"
      }
    },
    {
      "cell_type": "markdown",
      "source": [],
      "metadata": {
        "id": "dzNas8sHuHaN"
      }
    },
    {
      "cell_type": "code",
      "source": [
        "# distribution of data\n",
        "df.hist(bins=50,figsize=(20,15))\n",
        "plt.show()"
      ],
      "metadata": {
        "colab": {
          "base_uri": "https://localhost:8080/",
          "height": 1000
        },
        "id": "AwbQ2czQVqIa",
        "outputId": "48554787-c458-4b77-a9a2-7b2ef83e6e01"
      },
      "execution_count": null,
      "outputs": [
        {
          "output_type": "display_data",
          "data": {
            "text/plain": [
              "<Figure size 2000x1500 with 20 Axes>"
            ],
            "image/png": "[encoded data removed]"
          },
          "metadata": {}
        }
      ]
    },
    {
      "cell_type": "code",
      "source": [
        "sns.scatterplot(x=df['ALBUMIN'], y=df['AGE'], hue=df['SEX'], data=df)"
      ],
      "metadata": {
        "colab": {
          "base_uri": "https://localhost:8080/",
          "height": 466
        },
        "id": "xCkxOi2AXURM",
        "outputId": "b915fd27-352e-4064-a01c-ac575c102eee"
      },
      "execution_count": null,
      "outputs": [
        {
          "output_type": "execute_result",
          "data": {
            "text/plain": [
              "<Axes: xlabel='ALBUMIN', ylabel='AGE'>"
            ]
          },
          "metadata": {},
          "execution_count": 61
        },
        {
          "output_type": "display_data",
          "data": {
            "text/plain": [
              "<Figure size 640x480 with 1 Axes>"
            ],
            "image/png": "[encoded data removed]"
          },
          "metadata": {}
        }
      ]
    },
    {
      "cell_type": "markdown",
      "source": [
        "Eli5 Explanation"
      ],
      "metadata": {
        "id": "R5Wx2ClPsooE"
      }
    },
    {
      "cell_type": "code",
      "source": [
        "eli5.show_weights(gs,top=10)"
      ],
      "metadata": {
        "colab": {
          "base_uri": "https://localhost:8080/",
          "height": 66
        },
        "id": "tP0wLnMeslX-",
        "outputId": "db0d2e6b-db43-4bae-b12a-0481c4378278"
      },
      "execution_count": null,
      "outputs": [
        {
          "output_type": "execute_result",
          "data": {
            "text/plain": [
              "<IPython.core.display.HTML object>"
            ],
            "text/html": [
              "\n",
              "    <style>\n",
              "    table.eli5-weights tr:hover {\n",
              "        filter: brightness(85%);\n",
              "    }\n",
              "</style>\n",
              "\n",
              "\n",
              "\n",
              "    \n",
              "\n",
              "    \n",
              "\n",
              "    \n",
              "\n",
              "    \n",
              "\n",
              "    \n",
              "\n",
              "    \n",
              "\n",
              "\n",
              "    \n",
              "\n",
              "    \n",
              "\n",
              "    \n",
              "\n",
              "    \n",
              "\n",
              "    \n",
              "\n",
              "    \n",
              "\n",
              "\n",
              "    \n",
              "\n",
              "    \n",
              "\n",
              "    \n",
              "\n",
              "    \n",
              "\n",
              "    \n",
              "\n",
              "    \n",
              "\n",
              "\n",
              "    \n",
              "\n",
              "    \n",
              "\n",
              "    \n",
              "\n",
              "    \n",
              "\n",
              "    \n",
              "\n",
              "    \n",
              "\n",
              "\n",
              "\n",
              "\n",
              "    <div style=\"background-color: #fdd; padding: 0.5em;\">\n",
              "        Error: estimator GridSearchCV(cv=5, estimator=KNeighborsClassifier(),\n",
              "             param_grid={'algorithm': ['auto', 'ball_tree', 'kd_tree', 'brute'],\n",
              "                         'n_neighbors': [3, 5, 8, 10],\n",
              "                         'weights': ['uniform', 'distance']},\n",
              "             verbose=3) is not supported\n",
              "    </div>\n"
            ]
          },
          "metadata": {},
          "execution_count": 152
        }
      ]
    }
  ]
}